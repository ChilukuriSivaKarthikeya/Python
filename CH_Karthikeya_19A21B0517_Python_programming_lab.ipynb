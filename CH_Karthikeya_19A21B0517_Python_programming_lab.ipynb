{
  "nbformat": 4,
  "nbformat_minor": 0,
  "metadata": {
    "colab": {
      "name": "CH.Karthikeya-19A21B0517 Python programming lab.ipynb",
      "provenance": [],
      "collapsed_sections": [],
      "authorship_tag": "ABX9TyN8brRfbfv7KqhKGJfGqHIg",
      "include_colab_link": true
    },
    "kernelspec": {
      "display_name": "Python 3",
      "name": "python3"
    },
    "language_info": {
      "name": "python"
    }
  },
  "cells": [
    {
      "cell_type": "markdown",
      "metadata": {
        "id": "view-in-github",
        "colab_type": "text"
      },
      "source": [
        "<a href=\"https://colab.research.google.com/github/ChilukuriSivaKarthikeya/pythonlab/blob/main/CH_Karthikeya_19A21B0517_Python_programming_lab.ipynb\" target=\"_parent\"><img src=\"https://colab.research.google.com/assets/colab-badge.svg\" alt=\"Open In Colab\"/></a>"
      ]
    },
    {
      "cell_type": "markdown",
      "metadata": {
        "id": "x0UWcBNAWyGM"
      },
      "source": [
        "#**PYTHON PROGRAMMING LAB**\n",
        "\n",
        "----------------------------------------------------------\n",
        "\n",
        "\n"
      ]
    },
    {
      "cell_type": "markdown",
      "metadata": {
        "id": "ErbUgrEg0GEa"
      },
      "source": [
        "## **NAME:**CHILUKURI SIVA KARTHIKEYA\n",
        "## **REG NO:**19A21B0517\n",
        "## **SECTION:**CSE-Shift"
      ]
    },
    {
      "cell_type": "markdown",
      "metadata": {
        "id": "SVfQPmtcidjJ"
      },
      "source": [
        "## Exercise-1"
      ]
    },
    {
      "cell_type": "markdown",
      "metadata": {
        "id": "_uPj8QT0c7BL"
      },
      "source": [
        "**a) Running instructions in Interactive interpreter and a Python Script**"
      ]
    },
    {
      "cell_type": "markdown",
      "metadata": {
        "id": "boOvjlHsjIIU"
      },
      "source": [
        "**AIM:**\n",
        "\n",
        "Running instructions in Interactive interpreter and a Python Script"
      ]
    },
    {
      "cell_type": "markdown",
      "metadata": {
        "id": "MAUnMEKgjQcS"
      },
      "source": [
        "**DESCRIPTION:**\n",
        " \n",
        "**Python** is a high-level, interpreted, interactive and object-oriented scripting language. Python is designed to be highly readable. It uses English keywords frequently where as other languages use punctuation, and it has fewer syntactical constructions than other languages.\n",
        "\n",
        "Running Python in THREE ways:\n",
        " \n",
        "**a) Running Python Interpreter:**Python comes with an interactive interpreter. When you type python in your shell or command prompt, the python interpreter becomes active with a >>> prompt and waits for your commands\n",
        " \n",
        "**b) Running Python Scripts in IDLE:** Go to File menu click on New File (CTRL+N) and write the code and save first.py\n",
        " \n",
        "**c) Running python scripts in Command Prompt:**Before going to run we have to check the PATH in environment variables."
      ]
    },
    {
      "cell_type": "code",
      "metadata": {
        "colab": {
          "base_uri": "https://localhost:8080/"
        },
        "id": "c9teQ_3EXjVW",
        "outputId": "cdd1adae-bec8-490f-eeeb-637bf1b7c5d6"
      },
      "source": [
        "a=5\n",
        "b=10\n",
        "a,b=b,a\n",
        "print(a,b)"
      ],
      "execution_count": null,
      "outputs": [
        {
          "name": "stdout",
          "output_type": "stream",
          "text": [
            "10 5\n"
          ]
        }
      ]
    },
    {
      "cell_type": "code",
      "metadata": {
        "colab": {
          "base_uri": "https://localhost:8080/"
        },
        "id": "PVpfQDxumqJL",
        "outputId": "e4796e49-5147-4106-a418-21ccae081e52"
      },
      "source": [
        "\n",
        "n=5\n",
        "if n%2==0:\n",
        "  print(\"Even number\")\n",
        "else:\n",
        "  print(\"Odd number\")"
      ],
      "execution_count": null,
      "outputs": [
        {
          "name": "stdout",
          "output_type": "stream",
          "text": [
            "Odd number\n"
          ]
        }
      ]
    },
    {
      "cell_type": "markdown",
      "metadata": {
        "id": "k2XIcZ0GjIEP"
      },
      "source": [
        "**b) Write a program to purposefully raise Indentation Error and Correct it**"
      ]
    },
    {
      "cell_type": "markdown",
      "metadata": {
        "id": "F9poeBLEB1YR"
      },
      "source": [
        "**Aim:**To Write a program to purposefully raise Indentation Error and Correct it"
      ]
    },
    {
      "cell_type": "markdown",
      "metadata": {
        "id": "EfsMPxXXZgZa"
      },
      "source": [
        "**DESCRIPTION:**\n",
        "\n",
        "**Indentation**\n",
        "\n",
        "Python does not support braces to indicate blocks of code for class and function definitions or flow control.\n",
        "\n",
        "Blocks of code are denoted by line indentation.\n",
        "\n",
        "All the continuous lines indented with same number of spaces would form a block.\n",
        "\n",
        "Python strictly follow indentation rules to indicate the blocks."
      ]
    },
    {
      "cell_type": "markdown",
      "metadata": {
        "id": "2AmmOz2NudY4"
      },
      "source": [
        "### Error code"
      ]
    },
    {
      "cell_type": "code",
      "metadata": {
        "colab": {
          "base_uri": "https://localhost:8080/",
          "height": 133
        },
        "id": "62APssONjQon",
        "outputId": "94d40c52-401a-469c-e4e3-68c8fd2c44c8"
      },
      "source": [
        "age=16\n",
        " if age>=18:\n",
        "   print(\"Eligible to vote\")\n",
        "else:\n",
        "   print(\"Not Eligible to vote\")"
      ],
      "execution_count": null,
      "outputs": [
        {
          "ename": "IndentationError",
          "evalue": "ignored",
          "output_type": "error",
          "traceback": [
            "\u001b[0;36m  File \u001b[0;32m\"<ipython-input-12-d37c39967969>\"\u001b[0;36m, line \u001b[0;32m2\u001b[0m\n\u001b[0;31m    if age>=18:\u001b[0m\n\u001b[0m    ^\u001b[0m\n\u001b[0;31mIndentationError\u001b[0m\u001b[0;31m:\u001b[0m unexpected indent\n"
          ]
        }
      ]
    },
    {
      "cell_type": "markdown",
      "metadata": {
        "id": "e8bFN-Ocu4ZM"
      },
      "source": [
        "### corrected code"
      ]
    },
    {
      "cell_type": "code",
      "metadata": {
        "colab": {
          "base_uri": "https://localhost:8080/"
        },
        "id": "nH-obkvwu-sh",
        "outputId": "d4e699ed-c4e2-43ee-d30e-184212ff8bad"
      },
      "source": [
        "age=16\n",
        "if age>=18:\n",
        "   print(\"Eligible to vote\")\n",
        "else:\n",
        "   print(\"Not Eligible to vote\")"
      ],
      "execution_count": null,
      "outputs": [
        {
          "name": "stdout",
          "output_type": "stream",
          "text": [
            "Not Eligible to vote\n"
          ]
        }
      ]
    },
    {
      "cell_type": "markdown",
      "metadata": {
        "id": "IdKxWTJwjSEH"
      },
      "source": [
        "## Exercise-2"
      ]
    },
    {
      "cell_type": "markdown",
      "metadata": {
        "id": "jYz7f7uAjZeR"
      },
      "source": [
        "**a) Write a program to compute distance between two points taking input from the user(PythagoreanTheorem)**"
      ]
    },
    {
      "cell_type": "markdown",
      "metadata": {
        "id": "xjwENwWlDWLf"
      },
      "source": [
        "**Aim:**"
      ]
    },
    {
      "cell_type": "markdown",
      "metadata": {
        "id": "oaBr1QPpCKpt"
      },
      "source": [
        "To write a program to compute distance between two points taking input from the user(PythagoreanTheorem)"
      ]
    },
    {
      "cell_type": "markdown",
      "metadata": {
        "id": "IXVXf1d7DGmk"
      },
      "source": [
        "**DESCRIPTION:**\n",
        "\n",
        "Taking Input From the User: A function is defined as a block of organized, reusable code used to perform a single, related action. Python has many built-in functions; you can also create your own.\n",
        "Python has an input function which lets you ask a user for some text input. You call this function to tell the program to stop and wait for the user to key in the data.\n",
        "\n",
        "In Python 2, you have a built-in function raw_input(), whereas in Python 3, you have input(). The program will resume once the user presses the ENTER or RETURN key."
      ]
    },
    {
      "cell_type": "markdown",
      "metadata": {
        "id": "2eWs5H0LIhDu"
      },
      "source": [
        "**CODE:**"
      ]
    },
    {
      "cell_type": "code",
      "metadata": {
        "colab": {
          "base_uri": "https://localhost:8080/"
        },
        "id": "G-iFuLHJjey2",
        "outputId": "02a78c92-d1ed-47d7-ce28-8ab6f2aecc83"
      },
      "source": [
        "import math\n",
        "x1=int(input(\"Enter x1 value:\"))\n",
        "x2=int(input(\"Enter x2 value:\"))\n",
        "y1=int(input(\"Enter y1 value:\"))\n",
        "y2=int(input(\"Enter y2 value:\"))\n",
        "d=math.sqrt((x2-x1)**2+(y2-y1)**2)\n",
        "print(\"distance between two points is\",d)\n"
      ],
      "execution_count": null,
      "outputs": [
        {
          "name": "stdout",
          "output_type": "stream",
          "text": [
            "Enter x1 value:2\n",
            "Enter x2 value:3\n",
            "Enter y1 value:3\n",
            "Enter y2 value:4\n",
            "distance between two points is 1.4142135623730951\n"
          ]
        }
      ]
    },
    {
      "cell_type": "markdown",
      "metadata": {
        "id": "QK_eaMhVjnAX"
      },
      "source": [
        " **b) Write a program add.py that takes 2 numbers as command line arguments and prints its sum**"
      ]
    },
    {
      "cell_type": "markdown",
      "metadata": {
        "id": "jWCXC4E7CahH"
      },
      "source": [
        "**AIM:**\n",
        "\n",
        "To write a program add.py that takes 2 numbers as command line arguments and prints its sum"
      ]
    },
    {
      "cell_type": "markdown",
      "metadata": {
        "id": "i2cG7TYIDo8A"
      },
      "source": [
        "**DESCRIPTION:**\n",
        "\n",
        "The arguments that are given after the name of the program in the command line shell of the operating system are known as Command Line Arguments. Python provides various ways of dealing with these types of arguments. The three most common are:\n",
        "\n",
        "Using sys.argv\n",
        "\n",
        "The sys module provides functions and variables used to manipulate different parts of the Python runtime environment. This module provides access to some variables used or maintained by the interpreter and to functions that interact strongly with the interpreter.\n",
        "One such variable is sys.argv which is a simple list structure. It’s main purpose are:\n",
        "\n",
        "It is a list of command line arguments.\n",
        "\n",
        "len(sys.argv) provides the number of command line arguments.\n",
        "\n",
        "sys.argv[0] is the name of the current Python script."
      ]
    },
    {
      "cell_type": "markdown",
      "metadata": {
        "id": "RhrgSCpCIiue"
      },
      "source": [
        "**CODE:**"
      ]
    },
    {
      "cell_type": "code",
      "metadata": {
        "id": "CMbE8wTojruJ"
      },
      "source": [
        "import sys\n",
        "a=int(sys.argv[1])\n",
        "b=int(sys.argv[2])\n",
        "sum=a+b\n",
        "print(\"sum of two numbers is:\",sum)"
      ],
      "execution_count": null,
      "outputs": []
    },
    {
      "cell_type": "markdown",
      "metadata": {
        "id": "VjeUbqtAar-6"
      },
      "source": [
        "output:\n",
        "\n",
        "D:\\coures\\learningpython>python add.py 10 40\n",
        "\n",
        "sum of two numbers is:50"
      ]
    },
    {
      "cell_type": "markdown",
      "metadata": {
        "id": "vVglyP94jtz3"
      },
      "source": [
        "## Exercise-3"
      ]
    },
    {
      "cell_type": "markdown",
      "metadata": {
        "id": "nkWkbUGfjy2u"
      },
      "source": [
        "**a) Write a Program for checking whether the given number is an even number or not.**"
      ]
    },
    {
      "cell_type": "markdown",
      "metadata": {
        "id": "qCLoVRwkC5ip"
      },
      "source": [
        "**AIM:**\n",
        "\n",
        "To write a Program for checking whether the given number is an even number or not."
      ]
    },
    {
      "cell_type": "markdown",
      "metadata": {
        "id": "ntvkuF84PrL6"
      },
      "source": [
        "**DESCRIPTION:**\n",
        "\n",
        "An even number is an integer that is exactly divisible by 2. For example: 0, 8, -24\n",
        "\n",
        "An odd number is an integer that is not exactly divisible by 2. For example: 1, 7, -11, 15\n",
        "\n"
      ]
    },
    {
      "cell_type": "markdown",
      "metadata": {
        "id": "gFpdquZQIkW3"
      },
      "source": [
        "**CODE:**"
      ]
    },
    {
      "cell_type": "code",
      "metadata": {
        "colab": {
          "base_uri": "https://localhost:8080/"
        },
        "id": "74ByBg9kj5SF",
        "outputId": "2c48ec63-193a-41cd-8732-d01bf6e46cd7"
      },
      "source": [
        "n=int(input(\"Enter a number\"))\n",
        "if n%2==0:\n",
        " print(\"Given {} is even number\".format(n))\n",
        "else:\n",
        "  print(\"Given {} is odd number\".format(n))"
      ],
      "execution_count": null,
      "outputs": [
        {
          "name": "stdout",
          "output_type": "stream",
          "text": [
            "Enter a number22\n",
            "Given 22 is even number\n"
          ]
        }
      ]
    },
    {
      "cell_type": "markdown",
      "metadata": {
        "id": "_ytF0OXnlIFU"
      },
      "source": [
        "**b) Using a for loop, write a program that prints out the decimal equivalents of 1/2, 1/3, 1/4, . . .1/10**"
      ]
    },
    {
      "cell_type": "markdown",
      "metadata": {
        "id": "Q0an_OI3DGwa"
      },
      "source": [
        "**AIM:**\n",
        "\n",
        "Using a for loop, write a program that prints out the decimal equivalents of 1/2, 1/3, 1/4, . . .1/10"
      ]
    },
    {
      "cell_type": "markdown",
      "metadata": {
        "id": "9kaHotsbEjHL"
      },
      "source": [
        "**DESCRIPTION:**\n",
        "\n",
        "**For Loop:** For loops can iterate over a sequence of numbers using the \"range\" and \"xrange\" functions. The difference between range and xrange is that the range function returns a new list with numbers of that specified range, whereas xrange returns an iterator, which is more efficient.\n",
        "\n",
        "for x in range(start,stop,step):\n",
        "\n",
        "   statements"
      ]
    },
    {
      "cell_type": "markdown",
      "metadata": {
        "id": "7wdd6HiuIlu8"
      },
      "source": [
        "**CODE:**"
      ]
    },
    {
      "cell_type": "code",
      "metadata": {
        "colab": {
          "base_uri": "https://localhost:8080/"
        },
        "id": "bQV-waillNVs",
        "outputId": "bbcae0d4-a2d3-421e-cc32-c7bbccc88348"
      },
      "source": [
        "n=10\n",
        "for i in range(2,n+1):\n",
        "    print(\"1/{}={}\".format(i,1/i))"
      ],
      "execution_count": null,
      "outputs": [
        {
          "name": "stdout",
          "output_type": "stream",
          "text": [
            "1/2=0.5\n",
            "1/3=0.3333333333333333\n",
            "1/4=0.25\n",
            "1/5=0.2\n",
            "1/6=0.16666666666666666\n",
            "1/7=0.14285714285714285\n",
            "1/8=0.125\n",
            "1/9=0.1111111111111111\n",
            "1/10=0.1\n"
          ]
        }
      ]
    },
    {
      "cell_type": "markdown",
      "metadata": {
        "id": "TEihXYmflN8K"
      },
      "source": [
        "**c) Write a program using a for loop that loops over a sequence. What is sequence?**"
      ]
    },
    {
      "cell_type": "markdown",
      "metadata": {
        "id": "7pvB20aIDTRQ"
      },
      "source": [
        "**AIM:**\n",
        "\n",
        "To write a program using a for loop that loops over a sequence. What is sequence?"
      ]
    },
    {
      "cell_type": "markdown",
      "metadata": {
        "id": "7jSHUXZkFQrH"
      },
      "source": [
        "**DESCRIPTION:**\n",
        "\n",
        "For Loop: For loops can iterate over a sequence of numbers using the \"range\" and \"xrange\" functions. The difference between range and xrange is that the range function returns a new list with numbers of that specified range, whereas xrange returns an iterator, which is more efficient.\n",
        "\n",
        "for x in range(start,stop,step):\n",
        "\n",
        "statements"
      ]
    },
    {
      "cell_type": "markdown",
      "metadata": {
        "id": "5-jEqzdNInr5"
      },
      "source": [
        "**CODE:**"
      ]
    },
    {
      "cell_type": "code",
      "metadata": {
        "colab": {
          "base_uri": "https://localhost:8080/"
        },
        "id": "Aso-nSX3lS5D",
        "outputId": "64033893-54e0-4cd9-c745-0bd8c22eefb2"
      },
      "source": [
        "arr=[44,\"karthik\",64.4,True,89,'siva',72,-159]\n",
        "for i in arr:\n",
        "    print(i,end=\" \")"
      ],
      "execution_count": null,
      "outputs": [
        {
          "name": "stdout",
          "output_type": "stream",
          "text": [
            "44 karthik 64.4 True 89 siva 72 -159 "
          ]
        }
      ]
    },
    {
      "cell_type": "markdown",
      "metadata": {
        "id": "wZHJf1w6lUMR"
      },
      "source": [
        "**d)Write a program using a while loop that asks the user for a number, and prints a countdownfrom \n",
        "that number to zero.** "
      ]
    },
    {
      "cell_type": "markdown",
      "metadata": {
        "id": "fp-iZRsZDn2C"
      },
      "source": [
        "**AIM:**\n",
        "\n",
        "To write a program using a while loop that asks the user for a number, and prints a countdownfrom \n",
        "that number to zero."
      ]
    },
    {
      "cell_type": "markdown",
      "metadata": {
        "id": "YAurDy0cFzqk"
      },
      "source": [
        "**DESCRIPTION**\n",
        "\n",
        "While Loop is used to execute a block of statements repeatedly until a given condition is satisfied. And when the condition becomes false, the line immediately after the loop in the program is executed. While loop falls under the category of indefinite iteration\n",
        "\n",
        "The syntax for a while loop is:\n",
        "\n",
        "while [ condition]"
      ]
    },
    {
      "cell_type": "markdown",
      "metadata": {
        "id": "GdhMzjIvIpPq"
      },
      "source": [
        "**CODE:**"
      ]
    },
    {
      "cell_type": "code",
      "metadata": {
        "colab": {
          "base_uri": "https://localhost:8080/"
        },
        "id": "e2yhfco6lYMb",
        "outputId": "00979767-a936-43d2-cefa-5e4812bebe96"
      },
      "source": [
        "n=int(input(\"Enter a number:\"))\n",
        "while n>=0:\n",
        "    print(n)\n",
        "    n-=1"
      ],
      "execution_count": null,
      "outputs": [
        {
          "name": "stdout",
          "output_type": "stream",
          "text": [
            "Enter a number:10\n",
            "10\n",
            "9\n",
            "8\n",
            "7\n",
            "6\n",
            "5\n",
            "4\n",
            "3\n",
            "2\n",
            "1\n",
            "0\n"
          ]
        }
      ]
    },
    {
      "cell_type": "markdown",
      "metadata": {
        "id": "BHAFHhsXlZEO"
      },
      "source": [
        "## Exercise-4"
      ]
    },
    {
      "cell_type": "markdown",
      "metadata": {
        "id": "xY0_Ro-Ylejf"
      },
      "source": [
        "**a) Find the sum of all the primes below two million.**"
      ]
    },
    {
      "cell_type": "markdown",
      "metadata": {
        "id": "CJ2tn0DHDzjr"
      },
      "source": [
        "**AIM:**\n",
        "\n",
        "To Find the sum of all the primes below two million."
      ]
    },
    {
      "cell_type": "markdown",
      "metadata": {
        "id": "-ucw7ZDyF-_i"
      },
      "source": [
        "**DESCRIPTION:**\n",
        "\n",
        "A Fibonacci sequence is the integer sequence of 0, 1, 1, 2, 3, 5, 8....\n",
        "\n",
        "The first two terms are 0 and 1. All other terms are obtained by adding the preceding two terms. This means to say the nth term is the sum of (n-1)th and (n-2)th term\n",
        "\n",
        "Here, we store the number of terms in nterms. We initialize the first term to 0 and the second term to 1.\n",
        "\n",
        "If the number of terms is more than 2, we use a while loop to find the next term in the sequence by adding the preceding two terms. We then interchange the variables (update it) and continue on with the process."
      ]
    },
    {
      "cell_type": "markdown",
      "metadata": {
        "id": "pnpk8olQIrY-"
      },
      "source": [
        "**CODE:**"
      ]
    },
    {
      "cell_type": "code",
      "metadata": {
        "id": "cBnOR9zblit2"
      },
      "source": [
        "n=int(input(\"Enter an ending number:\"))\n",
        "sum=0\n",
        "st=\"\"\n",
        "for i in range(2,n):\n",
        "    state=True\n",
        "    for j in range(2,i):\n",
        "        if i%j==0:\n",
        "            state=False\n",
        "            break\n",
        "    if state==True:\n",
        "        st+=\" \"+str(i)\n",
        "        sum+=i\n",
        "print(\"prime numbers:\",st)\n",
        "print(\"sum of the prime numbers:\",sum)"
      ],
      "execution_count": null,
      "outputs": []
    },
    {
      "cell_type": "markdown",
      "metadata": {
        "id": "ywAVuct6uKGO"
      },
      "source": [
        "**b)Each new term in the Fibonacci sequence is \n",
        "generated by adding the previous two terms. Bystarting with 1 and 2, the first 10 terms will be:\n",
        "1, 2, 3, 5, 8, 13, 21, 34, 55, 89,...**"
      ]
    },
    {
      "cell_type": "markdown",
      "metadata": {
        "id": "9Co-fFw0Ge59"
      },
      "source": [
        "**AIM:**\n",
        "\n",
        "To find each new term in the Fibonacci sequence is generated by adding the previous two terms. Bystarting with 1 and 2, the first 10 terms will be: 1, 2, 3, 5, 8, 13, 21, 34, 55, 89,..."
      ]
    },
    {
      "cell_type": "markdown",
      "metadata": {
        "id": "L2jwqQE7G5Av"
      },
      "source": [
        "**DESCRIPTION:**\n",
        "\n",
        "A Fibonacci sequence is the integer sequence of 0, 1, 1, 2, 3, 5, 8....\n",
        "\n",
        "The first two terms are 0 and 1. All other terms are obtained by adding the preceding two terms. This means to say the nth term is the sum of (n-1)th and (n-2)th term"
      ]
    },
    {
      "cell_type": "markdown",
      "metadata": {
        "id": "pL0cZpVPIs1z"
      },
      "source": [
        "**CODE:**"
      ]
    },
    {
      "cell_type": "code",
      "metadata": {
        "colab": {
          "base_uri": "https://localhost:8080/"
        },
        "id": "ogNwOp8juKhY",
        "outputId": "99d09635-b908-4bcf-c7a2-1224455f250d"
      },
      "source": [
        "n=int(input(\"enter n value:\"))\n",
        "a=0\n",
        "b=1\n",
        "c=a+b\n",
        "while c<n:\n",
        "    print(c,end=\" \")\n",
        "    a=b\n",
        "    b=c\n",
        "    c=a+b "
      ],
      "execution_count": null,
      "outputs": [
        {
          "name": "stdout",
          "output_type": "stream",
          "text": [
            "enter n value:500\n",
            "1 2 3 5 8 13 21 34 55 89 144 233 377 "
          ]
        }
      ]
    },
    {
      "cell_type": "markdown",
      "metadata": {
        "id": "hb23pz7Ali4Y"
      },
      "source": [
        "**c) By considering the terms in the Fibonacci sequence whose values do not exceed four million,find \n",
        "the sum of the even-valued terms**"
      ]
    },
    {
      "cell_type": "markdown",
      "metadata": {
        "id": "C5MEpiKcHXkv"
      },
      "source": [
        "**AIM:**\n",
        "\n",
        "By considering the terms in the Fibonacci sequence whose values do not exceed four million,find the sum of the even-valued terms"
      ]
    },
    {
      "cell_type": "markdown",
      "metadata": {
        "id": "IbFW2hXSHir0"
      },
      "source": [
        "**DESCRIPTION:**\n",
        "\n",
        "A Fibonacci sequence is the integer sequence of 0, 1, 1, 2, 3, 5, 8....\n",
        "\n",
        "The first two terms are 0 and 1. All other terms are obtained by adding the preceding two terms. This means to say the nth term is the sum of (n-1)th and (n-2)th term"
      ]
    },
    {
      "cell_type": "markdown",
      "metadata": {
        "id": "FOwOqJ3ZIOWm"
      },
      "source": [
        "**CODE:**"
      ]
    },
    {
      "cell_type": "code",
      "metadata": {
        "colab": {
          "base_uri": "https://localhost:8080/"
        },
        "id": "SVthfnbjlmv6",
        "outputId": "6073ad1a-3818-4069-9f23-e4cff58921a2"
      },
      "source": [
        "n=int(input(\"enter n value:\"))\n",
        "a=0\n",
        "b=1\n",
        "c=a+b\n",
        "sum=0\n",
        "print(\"Even numbers in fibonacci series:\",end=\" \")\n",
        "while c<=n:\n",
        "    if c%2==0:\n",
        "        print(c,end=\" \")\n",
        "        sum+=c\n",
        "    a=b\n",
        "    b=c\n",
        "    c=a+b\n",
        "print(\"\\nsum of fibonacci series is:\",sum)"
      ],
      "execution_count": null,
      "outputs": [
        {
          "name": "stdout",
          "output_type": "stream",
          "text": [
            "enter n value4000000\n",
            "Even numbers in fibonacci series: 2 8 34 144 610 2584 10946 46368 196418 832040 3524578 \n",
            "sum of fibonacci series is: 4613732\n"
          ]
        }
      ]
    },
    {
      "cell_type": "markdown",
      "metadata": {
        "id": "Q8_nM3_5ls1T"
      },
      "source": [
        "## Exercise-5"
      ]
    },
    {
      "cell_type": "markdown",
      "metadata": {
        "id": "0V1B260klnkA"
      },
      "source": [
        "**a) Write a program to count the numbers of characters in the string and store them in adictionary data \n",
        "structure**"
      ]
    },
    {
      "cell_type": "markdown",
      "metadata": {
        "id": "7r0EzTZ2EQfW"
      },
      "source": [
        "**AIM:**\n",
        "\n",
        "To write a program to count the numbers of characters in the string and store them in adictionary data structure"
      ]
    },
    {
      "cell_type": "markdown",
      "metadata": {
        "id": "gcBnziPEH1bP"
      },
      "source": [
        "**DESCRIPTION:**\n",
        "\n",
        "Given a string, the task is to find the frequencies of all the characters in that string and return a dictionary with key as the character and its value as its frequency in the given string.\n",
        "\n",
        "Method 1 : Naive method\n",
        "\n",
        "Simply iterate through the string and form a key in dictionary of newly occurred element or if element is already occurred, increase its value by 1.\n",
        "\n",
        "Method 2 : Using collections.Counter()\n",
        "\n",
        "The most suggested method that could be used to find all occurrences is this method, this actually gets all element frequency and could also be used to print single element frequency if required."
      ]
    },
    {
      "cell_type": "markdown",
      "metadata": {
        "id": "4PGQvBqCIvCd"
      },
      "source": [
        "**CODE:**"
      ]
    },
    {
      "cell_type": "code",
      "metadata": {
        "colab": {
          "base_uri": "https://localhost:8080/"
        },
        "id": "pkGu4uvylyYm",
        "outputId": "e1a5923d-3c3b-4ba2-a6ee-1ab6a0532c56"
      },
      "source": [
        "name=input(\"Enter your name:\")\n",
        "dic={}\n",
        "for i in name:\n",
        "    key=dic.keys()\n",
        "    if i in key:\n",
        "        dic[i]+=1\n",
        "    else:\n",
        "        dic[i]=1\n",
        "\n",
        "print(dic)"
      ],
      "execution_count": null,
      "outputs": [
        {
          "name": "stdout",
          "output_type": "stream",
          "text": [
            "Enter your name:karthik\n",
            "{'k': 2, 'a': 1, 'r': 1, 't': 1, 'h': 1, 'i': 1}\n"
          ]
        }
      ]
    },
    {
      "cell_type": "markdown",
      "metadata": {
        "id": "UScullImlyy4"
      },
      "source": [
        "**b) Write a program to use split and join methods in the string and trace a birthday with adictionary \n",
        "data structure.**"
      ]
    },
    {
      "cell_type": "markdown",
      "metadata": {
        "id": "hwA7cU21EbYZ"
      },
      "source": [
        "**AIM:**\n",
        "\n",
        "To write a program to use split and join methods in the string and trace a birthday with adictionary \n",
        "data structure."
      ]
    },
    {
      "cell_type": "markdown",
      "metadata": {
        "id": "ynXBy3_cLPZa"
      },
      "source": [
        "**DESCRIPTION:**\n",
        "\n",
        "Python program to Split a string based on a delimiter and join the string using another delimiter.\n",
        "\n",
        "Split a string can be quite useful sometimes, especially when you need only certain parts of strings. A simple yet effective example is splitting the First-name and Last-name of a person. Another application is CSV(Comma Separated Files). We use split to get data from CSV and join to write data to CSV.\n",
        "\n",
        "In Python, we can use the function split() to split a string and\n",
        "\n",
        "join() to join a string.\n",
        "\n"
      ]
    },
    {
      "cell_type": "markdown",
      "metadata": {
        "id": "34CLCZyHIw7c"
      },
      "source": [
        "**CODE:**"
      ]
    },
    {
      "cell_type": "code",
      "metadata": {
        "colab": {
          "base_uri": "https://localhost:8080/"
        },
        "id": "pYOs9TsHl3Rd",
        "outputId": "d355638d-aae4-4f86-a60c-b62c17bffffd"
      },
      "source": [
        "data={\"karthik\":\"05-feb-2001\",\"vishnu\":\"15-oct-2003\",\"kiran\":\"08-may-2001\"}\n",
        "name=input(\"Enter name hows date of birth you want:\")\n",
        "names=name.split()\n",
        "for i in names:\n",
        "     if i in data.keys():\n",
        "         pers=i\n",
        "print(\" \".join([pers,\"was born on\",data[pers]]))\n"
      ],
      "execution_count": null,
      "outputs": [
        {
          "name": "stdout",
          "output_type": "stream",
          "text": [
            "Enter name hows date of birth you want:karthik\n",
            "karthik was born on 05-feb-2001\n"
          ]
        }
      ]
    },
    {
      "cell_type": "markdown",
      "metadata": {
        "id": "ypmPMxeUl7v7"
      },
      "source": [
        "## Exercise-6"
      ]
    },
    {
      "cell_type": "markdown",
      "metadata": {
        "id": "lHTu-y48mBCr"
      },
      "source": [
        "**a) Write a program combinelists that combines these lists into a dictionary**"
      ]
    },
    {
      "cell_type": "markdown",
      "metadata": {
        "id": "RCh-seJgEtzs"
      },
      "source": [
        "**AIM:**\n",
        "\n",
        "To write a program combinelists that combines these lists into a dictionary"
      ]
    },
    {
      "cell_type": "markdown",
      "metadata": {
        "id": "HJ4-8A_9eL_0"
      },
      "source": [
        "**DESCRIPTION:**\n",
        "\n",
        "For this, simply declare a dictionary, and then run nested loop for both the lists and assign key and value pairs to from list values to dictionary.\n",
        "\n",
        "Most pythonic and generic method to perform this very task is by using zip(). This function pairs the list element with other list element at corresponding index in form of key-value pairs."
      ]
    },
    {
      "cell_type": "markdown",
      "metadata": {
        "id": "QU44Bh4RIzrC"
      },
      "source": [
        "**CODE:**"
      ]
    },
    {
      "cell_type": "code",
      "metadata": {
        "colab": {
          "base_uri": "https://localhost:8080/"
        },
        "id": "TYqJhzzgmCrU",
        "outputId": "50aa16d9-6c78-4915-83d5-1ffd3b235bc5"
      },
      "source": [
        "sub=[\"OS\",\"SE\",\"DAA\",\"DBMS\",\"P&S\"]\n",
        "marks=[70,80,85,78,90]\n",
        "data=dict(zip(sub,marks))\n",
        "print(data)"
      ],
      "execution_count": null,
      "outputs": [
        {
          "name": "stdout",
          "output_type": "stream",
          "text": [
            "{'OS': 70, 'SE': 80, 'DAA': 85, 'DBMS': 78, 'P&S': 90}\n"
          ]
        }
      ]
    },
    {
      "cell_type": "markdown",
      "metadata": {
        "id": "YSTdXn_WmGO0"
      },
      "source": [
        "**b) Write a program to count frequency of characters in a given file. Can you use characterfrequency to \n",
        "tell whether the given file is a Python program file, C program file or a text file?**"
      ]
    },
    {
      "cell_type": "markdown",
      "metadata": {
        "id": "hEAV9B9EE4bW"
      },
      "source": [
        "**AIM:**\n",
        "\n",
        "To write a program to count frequency of characters in a given file. Can you use characterfrequency to \n",
        "tell whether the given file is a Python program file, C program file or a text file?"
      ]
    },
    {
      "cell_type": "markdown",
      "metadata": {
        "id": "DNJGUOhda9wU"
      },
      "source": [
        "**DESCRIPTION:**\n",
        "\n",
        "approaches to count the number of times a letter appears in a text file in Python.\n",
        "\n",
        "Method 1: Using the in-built count() method.\n",
        "\n",
        "Approach:\n",
        "\n",
        "Read the file.\n",
        "Store the content of the file in a variable.\n",
        "Use the count() method with the argument as a letter whose frequency is required.\n",
        "Display the count of the letter."
      ]
    },
    {
      "cell_type": "markdown",
      "metadata": {
        "id": "pwEaOpw7I160"
      },
      "source": [
        "**CODE:**"
      ]
    },
    {
      "cell_type": "code",
      "metadata": {
        "colab": {
          "base_uri": "https://localhost:8080/"
        },
        "id": "PDBe03kHmK9l",
        "outputId": "14588899-bef0-4402-8879-f044447dbcbf"
      },
      "source": [
        "name=\"/python.txt\"\n",
        "f=open(name,\"r\")\n",
        "count=dict()\n",
        "if \".py\" in name:\n",
        "    print(\"python file\")\n",
        "elif \".c\" in name:\n",
        "    print(\"c file\")\n",
        "elif \".txt\" in name:\n",
        "    print(\"text file\")\n",
        " \n",
        "for line in f:\n",
        "    for char in line:\n",
        "        if char in count:\n",
        "            count[char]+=1\n",
        "        else:\n",
        "            count[char]=1\n",
        "print(count)"
      ],
      "execution_count": null,
      "outputs": [
        {
          "name": "stdout",
          "output_type": "stream",
          "text": [
            "text file\n",
            "{'w': 1, 'e': 5, 'l': 2, 'c': 1, 'o': 11, 'm': 2, ' ': 11, 't': 9, 'p': 10, 'y': 4, 'h': 4, 'n': 7, '\\n': 3, 'i': 3, 's': 6, 'a': 5, 'r': 6, 'g': 5, 'd': 1, 'u': 3, 'A': 1, 'I': 1, ',': 2, 'M': 1, 'L': 1, 'D': 1, 'S': 1}\n"
          ]
        }
      ]
    },
    {
      "cell_type": "markdown",
      "metadata": {
        "id": "0kwugzU8mL6c"
      },
      "source": [
        "## Exercise-7"
      ]
    },
    {
      "cell_type": "markdown",
      "metadata": {
        "id": "EtxkVgh3mP47"
      },
      "source": [
        "**a) Write a program to print each line of a file in reverse order.**\n"
      ]
    },
    {
      "cell_type": "markdown",
      "metadata": {
        "id": "IbANtQSKFNeT"
      },
      "source": [
        "**AIM:**\n",
        "\n",
        "To write a program to print each line of a file in reverse order."
      ]
    },
    {
      "cell_type": "markdown",
      "metadata": {
        "id": "HKWwpzwJKmwG"
      },
      "source": [
        "**DESCRIPTION:**\n",
        "\n",
        "The file handling plays an important role when the data needs to be stored permanently into the file. A file is a named location on disk to store related information. We can access the stored information (non-volatile) after the program termination. In Python, files are treated in two modes as text or binary. The file may be in the text or binary format, and each line of a file is ended with the special character. Hence, a file operation can be done in the following order.\n",
        "\n",
        " Open a file\n",
        "\n",
        " Read or write - Performing operation\n",
        "\n",
        " Close the file"
      ]
    },
    {
      "cell_type": "markdown",
      "metadata": {
        "id": "d_HW10DcI3pP"
      },
      "source": [
        "**CODE:**"
      ]
    },
    {
      "cell_type": "code",
      "metadata": {
        "colab": {
          "base_uri": "https://localhost:8080/"
        },
        "id": "BAvccbASmakr",
        "outputId": "8691de72-40ea-4f7f-ca4d-cd515753e3de"
      },
      "source": [
        "f=open(\"/python.txt\",\"r\")\n",
        "if f:\n",
        "  st=f.read()\n",
        "  print(\"File content is:\\n\",st)\n",
        "f.close()\n",
        "print()\n",
        "lines=st.split(\"\\n\")\n",
        "for line in lines:\n",
        "    i=len(line)-1\n",
        "    while i>=0:\n",
        "      print(line[i],end=\"\")\n",
        "      i-=1\n",
        "    print()\n",
        "    "
      ],
      "execution_count": null,
      "outputs": [
        {
          "name": "stdout",
          "output_type": "stream",
          "text": [
            "File content is:\n",
            " welcome to python\n",
            "python is a intergrated programing language\n",
            "python supports AI,ML,DS\n",
            "python supports oops\n",
            "\n",
            "nohtyp ot emoclew\n",
            "egaugnal gnimargorp detargretni a si nohtyp\n",
            "SD,LM,IA stroppus nohtyp\n",
            "spoo stroppus nohtyp\n"
          ]
        }
      ]
    },
    {
      "cell_type": "markdown",
      "metadata": {
        "id": "ClzSRVZwmawL"
      },
      "source": [
        "**b) Write a program to compute the number of characters, words and lines in a file**"
      ]
    },
    {
      "cell_type": "markdown",
      "metadata": {
        "id": "YE13fMuRFXZH"
      },
      "source": [
        "**AIM:**\n",
        "\n",
        "To write a program to compute the number of characters, words and lines in a file"
      ]
    },
    {
      "cell_type": "markdown",
      "metadata": {
        "id": "UfcVuCkabnLU"
      },
      "source": [
        "**DESCRIPTION:**\n",
        "\n",
        "Given a text file fname, the task is to count the total number of characters, words, spaces and lines in the file.\n",
        "\n",
        "As we know, Python provides multiple in-built features and modules for handling files. Let’s discuss different ways to calculate total number of characters, words, spaces and lines in a file using Python.\n",
        "\n",
        "Method 1: Naive approach\n",
        "\n",
        "In this approach, the idea is to solve the task by developing our own logic. Without using any built-in function of Python, the total number of characters, words, spaces and lines of the file will be calculated.\n",
        "\n",
        "Method 2: Using some built-in functions and OS module functions\n",
        "\n",
        "In this approach, the idea is to use the os.linesep() method of OS module to separate the lines on the current platform. When the interpreter’s scanner encounter os.linesep it replaces it with \\n character. After that strip() and split() functions will be used to carry out the task.\n"
      ]
    },
    {
      "cell_type": "markdown",
      "metadata": {
        "id": "psF3sJZVI5Ga"
      },
      "source": [
        "**CODE:**"
      ]
    },
    {
      "cell_type": "code",
      "metadata": {
        "colab": {
          "base_uri": "https://localhost:8080/"
        },
        "id": "3tYpwpMbmeew",
        "outputId": "afecd37f-6cbc-4b66-e64d-13388c089779"
      },
      "source": [
        "nl=nw=nc=0\n",
        "f=open(\"/python.txt\",\"r\")\n",
        "lines=f.readlines()\n",
        "print(\"File content is:\")\n",
        "for line in lines:\n",
        "    ln=line.strip()\n",
        "    print(ln)\n",
        "    nl+=1\n",
        "    words=ln.split()\n",
        "    nw+=len(words)\n",
        "    nc+=len(ln)\n",
        "print(\"No.of lines:\",nl)\n",
        "print(\"No.of words:\",nw)\n",
        "print(\"No.of characters:\",nc)"
      ],
      "execution_count": null,
      "outputs": [
        {
          "name": "stdout",
          "output_type": "stream",
          "text": [
            "File content is:\n",
            "welcome to python\n",
            "python is a intergrated programing language\n",
            "python supports AI,ML,DS\n",
            "python supports oops\n",
            "No.of lines: 4\n",
            "No.of words: 15\n",
            "No.of characters: 104\n"
          ]
        }
      ]
    },
    {
      "cell_type": "markdown",
      "metadata": {
        "id": "oC8AMjAJ5TCw"
      },
      "source": [
        "## Exercise-8"
      ]
    },
    {
      "cell_type": "markdown",
      "metadata": {
        "id": "4wo874ia5YNY"
      },
      "source": [
        "**a) Write a function ball collide that takes two balls as parameters and computes if they arecolliding. \n",
        "Your function should return a Boolean representing whether or not the balls arecolliding.\n",
        "Hint: Represent a ball on a plane as a tuple of (x, y, r), r being the radius\n",
        "If (distance between two balls centers) <= (sum of their radii) then (they are colliding)**"
      ]
    },
    {
      "cell_type": "markdown",
      "metadata": {
        "id": "_n-vFgfmFmhE"
      },
      "source": [
        "**AIM:**\n",
        "\n",
        "To write a function ball collide that takes two balls as parameters and computes if they arecolliding. \n",
        "Your function should return a Boolean representing whether or not the balls arecolliding."
      ]
    },
    {
      "cell_type": "markdown",
      "metadata": {
        "id": "MeEUGQzDbCQp"
      },
      "source": [
        "**DESCRIPTION:**\n",
        "\n",
        "**Functions** A function in python is a block of code that is defined for doing frequent operations in a particular task. The general format is\n",
        "\n",
        "def Functionname(arguments):\n",
        "\n",
        "  Statements\n",
        "Calling a Function:\n",
        "\n",
        "A function can be called by its name followed by arguments within parenthesis.\n",
        "\n",
        "function()"
      ]
    },
    {
      "cell_type": "markdown",
      "metadata": {
        "id": "mQQF5OZ5I7-Z"
      },
      "source": [
        "**CODE:**"
      ]
    },
    {
      "cell_type": "code",
      "metadata": {
        "colab": {
          "base_uri": "https://localhost:8080/"
        },
        "id": "HkMLYL4N5fGN",
        "outputId": "596a9f77-df07-4b90-bc7b-6e240a5fc29d"
      },
      "source": [
        "import math\n",
        "def ball_collide(ball_tup1,ball_tup2):\n",
        "    x1,y1,r1=ball_tup1\n",
        "    x2,y2,r2=ball_tup2\n",
        "    d=math.sqrt((x2-x1)**2+(y2-y1)**2)\n",
        "    print(\"centriod distance of two balls:\",d)\n",
        "    print(\"sum of radius of two balls:\",r1+r2)\n",
        "    if d<=r1+r2:\n",
        "        return True\n",
        "    else:\n",
        "        return False\n",
        "\n",
        "b1=(3,4,4)\n",
        "b2=(8,6,4)\n",
        "if ball_collide(b1,b2):\n",
        "    print(\"Balls are collide....!\")\n",
        "else:\n",
        "    print(\"Balls are not collide....!\")"
      ],
      "execution_count": null,
      "outputs": [
        {
          "name": "stdout",
          "output_type": "stream",
          "text": [
            "centriod distance of two balls: 5.385164807134504\n",
            "sum of radius of two balls: 8\n",
            "Balls are collide....!\n"
          ]
        }
      ]
    },
    {
      "cell_type": "markdown",
      "metadata": {
        "id": "CIASkMIa5pUy"
      },
      "source": [
        "**b) Find mean, median, mode for the given set of numbers in a list.**"
      ]
    },
    {
      "cell_type": "markdown",
      "metadata": {
        "id": "Hp2VOv-7FyS_"
      },
      "source": [
        "**AIM:**\n",
        "\n",
        "To find mean, median, mode for the given set of numbers in a list."
      ]
    },
    {
      "cell_type": "markdown",
      "metadata": {
        "id": "wZb4gKiINmTS"
      },
      "source": [
        "**DESCRIPTION:**\n",
        "\n",
        "**Mean** is described as the total sum of the numbers in a list divided by the length of the numbers in the list. In simple translation, take all the number in a list and add them up, then divided the total by how many numbers are on the list.\n",
        "\n",
        "**Median** is described as the middle number when all numbers are sorted from smallest to largest. In simple translation, sort all numbers in a list from the smallest one to the largest one. Whichever number is in the middle is the median. In the case of having two numbers in the middle, add the two middle numbers together and divide them by 2. The resulting answer from the division by 2 is the median.\n",
        "\n",
        "**Mode** is described as the most frequent occurring number when all numbers are sorted from smallest to largest. In simple translation, when you have a list of numbers, which ever number occurs more often than the other numbers is the mode. If all numbers occurs the same amount of time, then the set of numbers has no mode."
      ]
    },
    {
      "cell_type": "markdown",
      "metadata": {
        "id": "k0SjCv6uI9kU"
      },
      "source": [
        "**CODE:**"
      ]
    },
    {
      "cell_type": "code",
      "metadata": {
        "colab": {
          "base_uri": "https://localhost:8080/"
        },
        "id": "nsEMQwVI5uuu",
        "outputId": "c91e2c46-c18c-4e51-afea-488a424c0f3a"
      },
      "source": [
        "def mean(lst):\n",
        "    return sum(lst)/len(lst)\n",
        "def median(lst):\n",
        "    lst.sort()\n",
        "    n=len(lst)\n",
        "    mid=n//2\n",
        "    if n%2==1:\n",
        "        return lst[mid]\n",
        "    else:\n",
        "        return lst[mid-1]+lst[mid]/2\n",
        "def mode(lst):\n",
        "    temp=[]\n",
        "    lst.sort()\n",
        "    for i in lst:\n",
        "     temp.append(lst.count(i))\n",
        "    dic=dict(zip(lst,temp))\n",
        "    mode={k for (k,v) in dic.items() if v==max(temp)}\n",
        "    return mode\n",
        "\n",
        "lst=[4,2,5,1,8,2,3,4,9,2,4]\n",
        "print(\"mean of the list is:\",mean(lst))\n",
        "print(\"median of the list is:\",median(lst))\n",
        "print(\"mode of the list is:\",mode(lst))"
      ],
      "execution_count": null,
      "outputs": [
        {
          "name": "stdout",
          "output_type": "stream",
          "text": [
            "mean of the list is: 4.0\n",
            "median of the list is: 4\n",
            "mode of the list is: {2, 4}\n"
          ]
        }
      ]
    },
    {
      "cell_type": "markdown",
      "metadata": {
        "id": "6A63xr3I55TZ"
      },
      "source": [
        "## Exercise-9"
      ]
    },
    {
      "cell_type": "markdown",
      "metadata": {
        "id": "FPvlPirB31P9"
      },
      "source": [
        "**a) Write a function nearly equal to test whether two strings are nearly equal. Two strings a and bare nearly equal when a can be generated by a single mutation on b.**"
      ]
    },
    {
      "cell_type": "markdown",
      "metadata": {
        "id": "XJCoCLxCF-Fq"
      },
      "source": [
        "**AIM:**\n",
        "\n",
        "To write a function nearly equal to test whether two strings are nearly equal. Two strings a and bare nearly equal when a can be generated by a single mutation on b."
      ]
    },
    {
      "cell_type": "markdown",
      "metadata": {
        "id": "VdBghdaQcaIc"
      },
      "source": [
        "**DESCRIPTION:**\n",
        "\n",
        "strlen() function is used to check wether the two string are nearly equal or not by basis of the Length of those Strings\n",
        "\n",
        "len() function is an inbuilt function in Python programming language that returns the length of the string.\n",
        "\n",
        "len() is a built-in function in python.You can use the len() to get the length of the given string, array, list, tuple, dictionary, etc.\n",
        "\n",
        "Value: the given value you want the length of.\n",
        "\n",
        "Return value a return an integer value i.e. the length of the given string, or array, or list, or collections.\n",
        "\n",
        "Syntax:\n",
        "\n",
        "len(string)"
      ]
    },
    {
      "cell_type": "markdown",
      "metadata": {
        "id": "s1eGrFvhI_Lp"
      },
      "source": [
        "**CODE:**"
      ]
    },
    {
      "cell_type": "code",
      "metadata": {
        "colab": {
          "base_uri": "https://localhost:8080/"
        },
        "id": "5ucmvIqp4nex",
        "outputId": "864d91df-71cb-4c4e-d7cd-0a2e120739c0"
      },
      "source": [
        "def check(str1,str2):\n",
        "  i=j=0\n",
        "  count=0\n",
        "  while(i<len(str1) and j<len(str2)):\n",
        "    if str1[i]!=str2[j]:\n",
        "      count+=1\n",
        "      if len(str1)>len(str2):\n",
        "        i+=1\n",
        "      elif len(str1)==len(str2):\n",
        "        pass\n",
        "      else:\n",
        "        i-=1\n",
        "    if count>1:\n",
        "      return False\n",
        "    i+=1\n",
        "    j+=1\n",
        "  if count<2:\n",
        "    return True\n",
        "s1=input(\"Enter string1:\")\n",
        "s2=input(\"Enter string2:\")\n",
        "if check(s1,s2):\n",
        "  print(\"strings are nearly equal\")\n",
        "else:\n",
        "  print(\"strings are not equal\")"
      ],
      "execution_count": null,
      "outputs": [
        {
          "name": "stdout",
          "output_type": "stream",
          "text": [
            "Enter string1:karthik\n",
            "Enter string2:karthikeya\n",
            "strings are nearly equal\n"
          ]
        }
      ]
    },
    {
      "cell_type": "markdown",
      "metadata": {
        "id": "oey0Ovc66BqT"
      },
      "source": [
        "**b) Write a function dup to find all duplicates in the list.**"
      ]
    },
    {
      "cell_type": "markdown",
      "metadata": {
        "id": "45a4FBN1GJNu"
      },
      "source": [
        "**AIM:**\n",
        "\n",
        "To write a function dup to find all duplicates in the list."
      ]
    },
    {
      "cell_type": "markdown",
      "metadata": {
        "id": "jiUvjd93cl1G"
      },
      "source": [
        "**DESCRIPION:**\n",
        "\n",
        "To check if a list contains any duplicate element follow the following steps,\n",
        "\n",
        "Add the contents of list in a set.\n",
        "\n",
        " 1.As set contains only unique elements, so no duplicates will be added   the the set.\n",
        "Compare the size of set and list.\n",
        "\n",
        "2.If size of list & set is equal then it means no duplicates in list.\n",
        "\n",
        "3.If size of list & set are different then it means yes, there are duplicates in list."
      ]
    },
    {
      "cell_type": "markdown",
      "metadata": {
        "id": "pz4MwyihJAtN"
      },
      "source": [
        "**CODE:**"
      ]
    },
    {
      "cell_type": "code",
      "metadata": {
        "colab": {
          "base_uri": "https://localhost:8080/"
        },
        "id": "5XnNCo9l6IA0",
        "outputId": "405d31ed-ed9f-4834-d0c4-dd436d424f2b"
      },
      "source": [
        "def dup_list(lst):\n",
        "    temp=[]\n",
        "    for i in lst:\n",
        "        cn=lst.count(i)\n",
        "        if cn>1 and i not in temp:\n",
        "            temp.append(i)\n",
        "    return temp\n",
        "\n",
        "lst=[1,5,2,7,3,2,8,5,9]\n",
        "print(\"Given list:\",lst)\n",
        "print(\"Duplicates in list:\",dup_list(lst))"
      ],
      "execution_count": null,
      "outputs": [
        {
          "name": "stdout",
          "output_type": "stream",
          "text": [
            "Given list: [1, 5, 2, 7, 3, 2, 8, 5, 9]\n",
            "Duplicates in list: [5, 2]\n"
          ]
        }
      ]
    },
    {
      "cell_type": "markdown",
      "metadata": {
        "id": "DFo70JdP6Qq5"
      },
      "source": [
        "**c) Write a function unique to find all the unique elements of a list.**"
      ]
    },
    {
      "cell_type": "markdown",
      "metadata": {
        "id": "x_S_QbtnGl23"
      },
      "source": [
        "**AIM:**\n",
        "\n",
        "To write a function unique to find all the unique elements of a list."
      ]
    },
    {
      "cell_type": "markdown",
      "metadata": {
        "id": "3dYLJbINc69W"
      },
      "source": [
        "**DESCRIPION:**\n",
        "\n",
        "To find the unique in the list .There is a Specific Method i.e.,\n",
        "\n",
        "Method : Traversal of list\n",
        "\n",
        "Using traversal, we can traverse for every element in the list and check if the element is in the unique_list already if it is not over there, then we can append it in the unique_list.\n",
        "\n",
        "This is done using one for loop and other if statement which check if the value is in the unique list or not which is equivalent to another for loop"
      ]
    },
    {
      "cell_type": "markdown",
      "metadata": {
        "id": "2hEO-tRXJCNk"
      },
      "source": [
        "**CODE:**"
      ]
    },
    {
      "cell_type": "code",
      "metadata": {
        "colab": {
          "base_uri": "https://localhost:8080/"
        },
        "id": "vxEMALCe6V2W",
        "outputId": "df3a0e36-5d86-4c3f-fc6a-42ebd4c3c672"
      },
      "source": [
        "def unique(lst):\n",
        "    temp=[]\n",
        "    for i in lst:\n",
        "        cn=lst.count(i)\n",
        "        if cn==1:\n",
        "            temp.append(i)\n",
        "    return temp\n",
        "\n",
        "lst=[1,4,2,6,2,5,8,5]\n",
        "print(\"Given list:\",lst)\n",
        "print(\"unique elements in list:\",unique(lst))"
      ],
      "execution_count": null,
      "outputs": [
        {
          "name": "stdout",
          "output_type": "stream",
          "text": [
            "Given list: [1, 4, 2, 6, 2, 5, 8, 5]\n",
            "unique elements in list: [1, 4, 6, 8]\n"
          ]
        }
      ]
    },
    {
      "cell_type": "markdown",
      "metadata": {
        "id": "WVO7Fj8z6cZl"
      },
      "source": [
        "## Exercise-10"
      ]
    },
    {
      "cell_type": "markdown",
      "metadata": {
        "id": "2XPyU1Eu6iNr"
      },
      "source": [
        "**a) Write a function cumulative product to compute cumulative product of a list of numbers.**"
      ]
    },
    {
      "cell_type": "markdown",
      "metadata": {
        "id": "y46OJjpPG1TH"
      },
      "source": [
        "**AIM:**\n",
        "\n",
        "To write a function cumulative product to compute cumulative product of a list of numbers."
      ]
    },
    {
      "cell_type": "markdown",
      "metadata": {
        "id": "rd0koEK4dBVv"
      },
      "source": [
        "**DESCRIPION:**\n",
        "\n",
        "A cumulative product is a sequence of partial products of a given sequence. For example, the cumulative products of the sequence. , are , , .. Cumulative products can be implemented in the Wolfram Language as Rest[FoldList[Times, 1, list]]\n",
        "\n",
        "cumprod(A,1) works on successive elements in the columns of A and returns the cumulative products of each column. cumprod(A,2) works on successive elements in the rows of A and returns the cumulative products of each row.\n",
        "\n",
        "umprod() function is used when we want to compute the cumulative product of array elements over a given axis. Syntax : numpy.cumprod(arr, axis=None, dtype=None, out=None) Parameters : arr : [array_like] Array containing numbers whose cumulative product is desired."
      ]
    },
    {
      "cell_type": "markdown",
      "metadata": {
        "id": "_mNWch_FJDVT"
      },
      "source": [
        "**CODE:**"
      ]
    },
    {
      "cell_type": "code",
      "metadata": {
        "colab": {
          "base_uri": "https://localhost:8080/"
        },
        "id": "GFFAjaNF6n-O",
        "outputId": "b0baef49-1e33-4655-926d-67ce64a40a69"
      },
      "source": [
        "def cum_product(lst):\n",
        "    temp=[]\n",
        "    pt=1\n",
        "    for i in lst:\n",
        "        pt*=i\n",
        "        temp.append(pt)\n",
        "    return temp\n",
        "\n",
        "lst=[1,2,5,7,9]\n",
        "print(\"Given list is:\",lst)\n",
        "print(\"cumulative product list is:\",cum_product(lst))"
      ],
      "execution_count": null,
      "outputs": [
        {
          "name": "stdout",
          "output_type": "stream",
          "text": [
            "Given list is: [1, 2, 5, 7, 9]\n",
            "cumulative product list is: [1, 2, 10, 70, 630]\n"
          ]
        }
      ]
    },
    {
      "cell_type": "markdown",
      "metadata": {
        "id": "TAHLck7r6ug3"
      },
      "source": [
        "**b) Write a function reverse to reverse a list. Without using the reverse function.**"
      ]
    },
    {
      "cell_type": "markdown",
      "metadata": {
        "id": "oYkb6HgfG795"
      },
      "source": [
        "**AIM:**\n",
        "\n",
        "To write a function reverse to reverse a list. Without using the reverse function."
      ]
    },
    {
      "cell_type": "markdown",
      "metadata": {
        "id": "kYGBUFt-dDBn"
      },
      "source": [
        "**DESCRIPION:**\n",
        "\n",
        "In this Python code snippet post, we are going to implement a list reverse function from the scratch without using any builtin functions.\n",
        "\n",
        "Let us see how…\n",
        "\n",
        "Iterative solution\n",
        "\n",
        "We can use a for loop to swap the first and last items, the second and the one before the last item and so on until the list is reversed in place. The number of iterations needed is half the list size. If the list has an odd number of items then the middle item will stay in its place.\n"
      ]
    },
    {
      "cell_type": "markdown",
      "metadata": {
        "id": "7LYRE8pCJEuG"
      },
      "source": [
        "**CODE:**"
      ]
    },
    {
      "cell_type": "code",
      "metadata": {
        "colab": {
          "base_uri": "https://localhost:8080/"
        },
        "id": "2mDS9kgY63Ow",
        "outputId": "eaef29b8-69fd-4c88-dcf2-f4a759df86a6"
      },
      "source": [
        "def rev_list(lst):\n",
        "    i=0\n",
        "    j=len(lst)-1\n",
        "    while i<=j:\n",
        "        temp=lst[i]\n",
        "        lst[i]=lst[j]\n",
        "        lst[j]=temp\n",
        "        i+=1\n",
        "        j-=1\n",
        "\n",
        "lst=[1,5,2,7,3,8,4]\n",
        "print(\"Given list:\",lst)\n",
        "rev_list(lst)\n",
        "print(\"Reverse of given list:\",lst)"
      ],
      "execution_count": null,
      "outputs": [
        {
          "name": "stdout",
          "output_type": "stream",
          "text": [
            "Given list: [1, 5, 2, 7, 3, 8, 4]\n",
            "Reverse of given list: [4, 8, 3, 7, 2, 5, 1]\n"
          ]
        }
      ]
    },
    {
      "cell_type": "markdown",
      "metadata": {
        "id": "RmuHOpRZ7By2"
      },
      "source": [
        "**c) Write function to compute gcd, lcm of two numbers. Each function shouldn’t exceed one line.**"
      ]
    },
    {
      "cell_type": "markdown",
      "metadata": {
        "id": "xNsTVPAnHGsR"
      },
      "source": [
        "**AIM:**To write function to compute gcd, lcm of two numbers. Each function shouldn’t exceed one line.\n",
        "\n"
      ]
    },
    {
      "cell_type": "markdown",
      "metadata": {
        "id": "9B_0OEjYdE_0"
      },
      "source": [
        "**DESCRIPION:**\n",
        "\n",
        "Python provides you an anonymous function called lambda. It can take any number of arguments, but can only have one expression. It can be used to find LCM and GCD values without exceeding each from from one line.\n",
        "\n",
        "The general format is\n",
        "\n",
        "lambda arguments: expression\n",
        "\n",
        "The expression is executed during the function call and the result is returned.\n",
        "\n",
        "Lambda as a Function\n",
        "\n",
        "The power of using a lambda expression is implementing it using a function\n",
        "\n"
      ]
    },
    {
      "cell_type": "markdown",
      "metadata": {
        "id": "os407UcRJGFQ"
      },
      "source": [
        "**CODE:**"
      ]
    },
    {
      "cell_type": "code",
      "metadata": {
        "colab": {
          "base_uri": "https://localhost:8080/"
        },
        "id": "d_D14QrH7C_A",
        "outputId": "d22c2eef-bed9-4db5-e303-852cc5eaf8c5"
      },
      "source": [
        "gcd=lambda a,b:a if b==0 else gcd(a,a%b)\n",
        "lcm=lambda a,b:(a*b)/gcd(a,b)\n",
        "\n",
        "n1,n2=[int(x) for x in input(\"Enter two numbers:\").split(\" \")]\n",
        "print(\"LCM of given two numbers:\",lcm(n1,n2))\n",
        "print(\"GCD of given two numbers:\",gcd(n1,n2))\n"
      ],
      "execution_count": null,
      "outputs": [
        {
          "name": "stdout",
          "output_type": "stream",
          "text": [
            "Enter two numbers:23 24\n",
            "LCM of given two numbers: 24.0\n",
            "GCD of given two numbers: 23\n"
          ]
        }
      ]
    },
    {
      "cell_type": "markdown",
      "metadata": {
        "id": "L-qByiW67ec5"
      },
      "source": [
        "## Exercise-11"
      ]
    },
    {
      "cell_type": "markdown",
      "metadata": {
        "id": "stKjJ-g07iOP"
      },
      "source": [
        "**a) Write a program that defines a matrix and prints**"
      ]
    },
    {
      "cell_type": "markdown",
      "metadata": {
        "id": "VgdT8MQCIyWf"
      },
      "source": [
        "**AIM:**To write a program that defines a matrix and prints"
      ]
    },
    {
      "cell_type": "markdown",
      "metadata": {
        "id": "0z6_CvexdHp_"
      },
      "source": [
        "**DESCRIPION:**\n",
        "\n",
        "Lists are a very widely use data structure in python. They contain a list of elements separated by comma. But sometimes lists can also contain lists within them. These are called nested lists or multidimensional lists. In this article we will see how to create and access elements in a multidimensional list."
      ]
    },
    {
      "cell_type": "markdown",
      "metadata": {
        "id": "F4xOM1VTJHW_"
      },
      "source": [
        "**CODE:**"
      ]
    },
    {
      "cell_type": "code",
      "metadata": {
        "colab": {
          "base_uri": "https://localhost:8080/"
        },
        "id": "7f4NqH107vAd",
        "outputId": "5dc22488-a4f1-4550-b652-cf8ac246203a"
      },
      "source": [
        "rows=int(input(\"Enter no.of rows:\"))\n",
        "cols=int(input(\"Enter no.of cols:\"))\n",
        "matrix=[[int(input(\"Enter element of [{},{}]:\".format(i,j)))for j in range(cols)]for i in range(rows)]\n",
        "print(\"matrix is:\")\n",
        "for i in range(rows):\n",
        "    for j in range(cols):\n",
        "        print(matrix[i][j],end=\" \")\n",
        "    print()"
      ],
      "execution_count": null,
      "outputs": [
        {
          "name": "stdout",
          "output_type": "stream",
          "text": [
            "Enter no.of rows:2\n",
            "Enter no.of cols:2\n",
            "Enter element of [0,0]:2\n",
            "Enter element of [0,1]:4\n",
            "Enter element of [1,0]:6\n",
            "Enter element of [1,1]:8\n",
            "matrix is:\n",
            "2 4 \n",
            "6 8 \n"
          ]
        }
      ]
    },
    {
      "cell_type": "markdown",
      "metadata": {
        "id": "TyBwte8X7wzn"
      },
      "source": [
        "**b) Write a program to perform addition of two square matrices**"
      ]
    },
    {
      "cell_type": "markdown",
      "metadata": {
        "id": "PkKX8GKgIkW1"
      },
      "source": [
        "**AIM:**\n",
        "\n",
        "To write a program to perform addition of two square matrices\n",
        "\n"
      ]
    },
    {
      "cell_type": "markdown",
      "metadata": {
        "id": "WCtO6qVoLUQn"
      },
      "source": [
        "**DESCRIPTION:**\n",
        "\n",
        "Matrix addition in Python is a technique by which you can add two matrixes of the same shape. If the matrices don’t have the same shape, the addition will not be possible. Moreover, the addition in matrices works one way, which means that the (1,1) element will only add to (1, 1) element of another matrix."
      ]
    },
    {
      "cell_type": "markdown",
      "metadata": {
        "id": "Zg2vfmV1JJDK"
      },
      "source": [
        "**CODE:**"
      ]
    },
    {
      "cell_type": "code",
      "metadata": {
        "colab": {
          "base_uri": "https://localhost:8080/"
        },
        "id": "79qDCrZn713v",
        "outputId": "cfb7a262-71dd-4758-ca70-6d0a44acdfed"
      },
      "source": [
        "def display(mat):\n",
        "    for i in range(rows):\n",
        "        for j in range(cols):\n",
        "            print(mat[i][j],end=\" \")\n",
        "        print()\n",
        "\n",
        "rows=int(input(\"Enter no.of rows:\"))\n",
        "cols=int(input(\"Enter no.of cols:\"))\n",
        "print(\"Enter matrix A elements:\")\n",
        "matA=[[int(input(\"Enter element of [{},{}]:\".format(i,j)))for j in range(cols)]for i in range(rows)]\n",
        "print(\"Enter matrix B elements:\")\n",
        "matB=[[int(input(\"Enter element of [{},{}]:\".format(i,j)))for j in range(cols)]for i in range(rows)]\n",
        "if rows==cols:\n",
        "    matsum=[[matA[i][j]+matB[i][j]for j in range(cols)]for i in range(rows)]\n",
        "    print(\"matrix A is:\")\n",
        "    display(matA)\n",
        "    print(\"matrix B is:\")\n",
        "    display(matB)\n",
        "    print(\"Addition of two matrices is:\")\n",
        "    display(matsum)\n",
        "else:\n",
        "    print(\"matrix addition is not possible\")"
      ],
      "execution_count": null,
      "outputs": [
        {
          "name": "stdout",
          "output_type": "stream",
          "text": [
            "Enter no.of rows:2\n",
            "Enter no.of cols:2\n",
            "Enter matrix A elements:\n",
            "Enter element of [0,0]:1\n",
            "Enter element of [0,1]:2\n",
            "Enter element of [1,0]:3\n",
            "Enter element of [1,1]:4\n",
            "Enter matrix B elements:\n",
            "Enter element of [0,0]:9\n",
            "Enter element of [0,1]:8\n",
            "Enter element of [1,0]:7\n",
            "Enter element of [1,1]:6\n",
            "matrix A is:\n",
            "1 2 \n",
            "3 4 \n",
            "matrix B is:\n",
            "9 8 \n",
            "7 6 \n",
            "Addition of two matrices is:\n",
            "10 10 \n",
            "10 10 \n"
          ]
        }
      ]
    },
    {
      "cell_type": "markdown",
      "metadata": {
        "id": "ApoeGU_E8ABZ"
      },
      "source": [
        "**c) Write a program to perform multiplication of two square matrices**"
      ]
    },
    {
      "cell_type": "markdown",
      "metadata": {
        "id": "SpwaMTh9IYJ-"
      },
      "source": [
        "**AIM:**\n",
        "\n",
        "To write a program to perform multiplication of two square matrices"
      ]
    },
    {
      "cell_type": "markdown",
      "metadata": {
        "id": "tCsnacyfLFpq"
      },
      "source": [
        "**DESCRIPTION:**\n",
        "\n",
        "Matrix multiplication is a binary operation that uses a pair of matrices to produce another matrix. The elements within the matrix are multiplied according to elementary arithmetic.\n",
        "In the multiplication of two matrices, the row elements of the first matrix are multiplied to the column elements of the second matrix."
      ]
    },
    {
      "cell_type": "markdown",
      "metadata": {
        "id": "kxga4AaWJK1h"
      },
      "source": [
        "**CODE:**"
      ]
    },
    {
      "cell_type": "code",
      "metadata": {
        "colab": {
          "base_uri": "https://localhost:8080/"
        },
        "id": "WmJzikGt8ETj",
        "outputId": "30a401d7-b9f5-4279-ebac-3d2eb71e14ea"
      },
      "source": [
        "def display(mat):\n",
        "    for i in range(rows):\n",
        "        for j in range(cols):\n",
        "            print(mat[i][j],end=\" \")\n",
        "        print()\n",
        "rows=int(input(\"Enter no.of rows:\"))\n",
        "cols=int(input(\"Enter no.of cols:\"))\n",
        "print(\"Enter matrix A elements:\")\n",
        "matA=[[int(input(\"Enter element of [{},{}]:\".format(i,j)))for j in range(cols)]for i in range(rows)]\n",
        "print(\"Enter matrix B elements:\")\n",
        "matB=[[int(input(\"Enter element of [{},{}]:\".format(i,j)))for j in range(cols)]for i in range(rows)]\n",
        "if rows==cols:\n",
        "    matmul=[[0 for j in range(cols)]for i in range(rows)]\n",
        "    for i in range(rows):\n",
        "        for j in range(cols):\n",
        "            for k in range(cols):\n",
        "                matmul[i][j]+=matA[i][k]*matB[k][j]\n",
        "    print(\"matrix A is:\")\n",
        "    display(matA)\n",
        "    print(\"matrix B is:\")\n",
        "    display(matB)\n",
        "    print(\"Multiplication of two matrices is:\")\n",
        "    display(matmul)\n",
        "else:\n",
        "    print(\"matrix multiplication is not possible\")"
      ],
      "execution_count": null,
      "outputs": [
        {
          "name": "stdout",
          "output_type": "stream",
          "text": [
            "Enter no.of rows:2\n",
            "Enter no.of cols:2\n",
            "Enter matrix A elements:\n",
            "Enter element of [0,0]:4\n",
            "Enter element of [0,1]:2\n",
            "Enter element of [1,0]:3\n",
            "Enter element of [1,1]:1\n",
            "Enter matrix B elements:\n",
            "Enter element of [0,0]:5\n",
            "Enter element of [0,1]:7\n",
            "Enter element of [1,0]:6\n",
            "Enter element of [1,1]:9\n",
            "matrix A is:\n",
            "4 2 \n",
            "3 1 \n",
            "matrix B is:\n",
            "5 7 \n",
            "6 9 \n",
            "Multiplication of two matrices is:\n",
            "32 46 \n",
            "21 30 \n"
          ]
        }
      ]
    },
    {
      "cell_type": "markdown",
      "metadata": {
        "id": "UiYx09Ql8Nye"
      },
      "source": [
        "## Exercise-12"
      ]
    },
    {
      "cell_type": "markdown",
      "metadata": {
        "id": "aXWf7rej8SvG"
      },
      "source": [
        "**b) Write a script that imports requests and fetch content from the page. Eg. (Wiki)**"
      ]
    },
    {
      "cell_type": "markdown",
      "metadata": {
        "id": "qZkUvhHbING4"
      },
      "source": [
        "**AIM:**\n",
        "\n",
        "To write a script that imports requests and fetch content from the page. Eg. (Wiki)\n",
        "\n"
      ]
    },
    {
      "cell_type": "markdown",
      "metadata": {
        "id": "NYGbSQQLeBwb"
      },
      "source": [
        "**DESCRIPTION:**\n",
        "\n",
        "The Hypertext Transfer Protocol (HTTP) is an application protocol for distributed, collaborative, hypermedia information systems. HTTP is the foundation of data communication for the World Wide Web.\n",
        "\n",
        "Python requests\n",
        "\n",
        "Requests is a simple and elegant Python HTTP library. It provides methods for accessing Web resources via HTTP.\n",
        "\n",
        "Python requests reading a web page\n",
        "\n",
        "The get() method issues a GET request; it fetches documents identified by the given URL."
      ]
    },
    {
      "cell_type": "markdown",
      "metadata": {
        "id": "Wx65TMQcJMxO"
      },
      "source": [
        "**CODE:**"
      ]
    },
    {
      "cell_type": "code",
      "metadata": {
        "colab": {
          "base_uri": "https://localhost:8080/"
        },
        "id": "HsYcxQvS8YtV",
        "outputId": "57c73c7e-1518-443b-e0dd-bb63dbe66000"
      },
      "source": [
        "import requests\n",
        "r=requests.get('http://www.google.com')\n",
        "print(\"statuscode:\",r.status_code)\n",
        "print(\"Header content:\",r.headers['content-type'])\n",
        "print(r.text)"
      ],
      "execution_count": null,
      "outputs": [
        {
          "name": "stdout",
          "output_type": "stream",
          "text": [
            "statuscode: 200\n",
            "Header content: text/html; charset=ISO-8859-1\n",
            "<!doctype html><html itemscope=\"\" itemtype=\"http://schema.org/WebPage\" lang=\"en\"><head><meta content=\"Search the world's information, including webpages, images, videos and more. Google has many special features to help you find exactly what you're looking for.\" name=\"description\"><meta content=\"noodp\" name=\"robots\"><meta content=\"text/html; charset=UTF-8\" http-equiv=\"Content-Type\"><meta content=\"/logos/doodles/2021/doodle-champion-island-games-september-05-6753651837109292-l.png\" itemprop=\"image\"><meta content=\"Doodle Champion Island Games!\" property=\"twitter:title\"><meta content=\"Feline up for a challenge? Help Lucky claim victory in the Doodle Champion Island Games! #GoogleDoodle \" property=\"twitter:description\"><meta content=\"Feline up for a challenge? Help Lucky claim victory in the Doodle Champion Island Games! #GoogleDoodle \" property=\"og:description\"><meta content=\"summary_large_image\" property=\"twitter:card\"><meta content=\"@GoogleDoodles\" property=\"twitter:site\"><meta content=\"https://www.google.com/logos/doodles/2021/doodle-champion-island-games-september-05-6753651837109292-2xa.gif\" property=\"twitter:image\"><meta content=\"https://www.google.com/logos/doodles/2021/doodle-champion-island-games-september-05-6753651837109292-2xa.gif\" property=\"og:image\"><meta content=\"668\" property=\"og:image:width\"><meta content=\"392\" property=\"og:image:height\"><meta content=\"https://www.google.com/logos/doodles/2021/doodle-champion-island-games-september-05-6753651837109292-2xa.gif\" property=\"og:url\"><meta content=\"video.other\" property=\"og:type\"><title>Google</title><script nonce=\"5RfR8VvpIxDjbGEPV96ZSQ==\">(function(){window.google={kEI:'W4U0YYjtEvvQ5NoPyK6LuAo',kEXPI:'0,772215,1,530320,56873,954,5104,207,4804,2316,383,246,5,1354,4936,314,1122516,1197790,493,118,328866,51223,8162,7953,17444,11240,17572,4858,1362,9291,3029,4744,12835,4020,978,13228,3847,4192,6434,1138,6290,11613,2777,919,5081,1593,1279,2212,530,149,1103,840,1983,4315,3513,606,2023,1777,520,14670,3227,2845,7,12354,5096,7539,4085,2772,1924,908,2,941,15324,432,3,346,1244,1,5444,149,11323,2652,4,1528,2304,1240,5799,74,1983,2627,2014,11501,3824,3050,2658,4243,3113,31,13628,1590,715,638,37,1457,5586,3772,5993,1435,2522,3302,2533,992,3102,20,3118,6,908,3,3541,1,5349,9361,1,1813,283,38,874,5992,12346,2332,777,1,5,1267,1344,371,2,3037,20,6167,597,18,4,50,4,5369,4,750,375,342,255,55,4,434,2377,123,1557,743,5853,1576,3,472,7269,1143,1160,1269,2834,2306,291,2380,2718,3709,2,835,3,125,5348,4635,1213,2427,1,8,152,2,2748,4815,1933,190,2446,10,2,370,1214,981,369,3306,2473,1129,1772,755,509,52,39,1,174,631,1661,49,594,664,3,792,684,38,2,878,1461,1168,270,239,393,258,1090,331,199,95,27,400,36,36,623,1,205,321,783,671,878,50,1279,98,242,1114,97,181,436,410,356,895,101,371,111,256,71,4,416,391,1,8,383,355,9,30,84,1246,2,93,3,101,549,99,2,408,34,2,3,5580181,3904,226,220,73,87,46,73,5995419,1170,2800697,882,444,1,2,80,1,1796,1,9,2553,1,748,141,795,563,1,4265,1,1,2,1331,4142,2609,155,17,13,72,139,4,2,20,2,169,13,19,46,5,39,96,548,29,2,2,1,2,1,2,2,7,4,1,2,2,2,2,2,2,353,513,186,1,1,158,3,2,2,2,2,2,4,2,3,3,269,291,53,23,9,6,28,20,19,20,5,2,14,11,4,23,23654330,299865,4041351,338,3,2414,448,2,463,172,406,9,3235,1542,887,36,69',kBL:'94Ui'};google.sn='webhp';google.kHL='en';})();(function(){\n",
            "var f=this||self;var h,k=[];function l(a){for(var b;a&&(!a.getAttribute||!(b=a.getAttribute(\"eid\")));)a=a.parentNode;return b||h}function m(a){for(var b=null;a&&(!a.getAttribute||!(b=a.getAttribute(\"leid\")));)a=a.parentNode;return b}\n",
            "function n(a,b,c,d,g){var e=\"\";c||-1!==b.search(\"&ei=\")||(e=\"&ei=\"+l(d),-1===b.search(\"&lei=\")&&(d=m(d))&&(e+=\"&lei=\"+d));d=\"\";!c&&f._cshid&&-1===b.search(\"&cshid=\")&&\"slh\"!==a&&(d=\"&cshid=\"+f._cshid);c=c||\"/\"+(g||\"gen_204\")+\"?atyp=i&ct=\"+a+\"&cad=\"+b+e+\"&zx=\"+Date.now()+d;/^http:/i.test(c)&&\"https:\"===window.location.protocol&&(google.ml&&google.ml(Error(\"a\"),!1,{src:c,glmm:1}),c=\"\");return c};h=google.kEI;google.getEI=l;google.getLEI=m;google.ml=function(){return null};google.log=function(a,b,c,d,g){if(c=n(a,b,c,d,g)){a=new Image;var e=k.length;k[e]=a;a.onerror=a.onload=a.onabort=function(){delete k[e]};a.src=c}};google.logUrl=n;}).call(this);(function(){\n",
            "google.y={};google.sy=[];google.x=function(a,b){if(a)var c=a.id;else{do c=Math.random();while(google.y[c])}google.y[c]=[a,b];return!1};google.sx=function(a){google.sy.push(a)};google.lm=[];google.plm=function(a){google.lm.push.apply(google.lm,a)};google.lq=[];google.load=function(a,b,c){google.lq.push([[a],b,c])};google.loadAll=function(a,b){google.lq.push([a,b])};google.bx=!1;google.lx=function(){};}).call(this);google.f={};(function(){\n",
            "document.documentElement.addEventListener(\"submit\",function(b){var a;if(a=b.target){var c=a.getAttribute(\"data-submitfalse\");a=\"1\"==c||\"q\"==c&&!a.elements.q.value?!0:!1}else a=!1;a&&(b.preventDefault(),b.stopPropagation())},!0);document.documentElement.addEventListener(\"click\",function(b){var a;a:{for(a=b.target;a&&a!=document.documentElement;a=a.parentElement)if(\"A\"==a.tagName){a=\"1\"==a.getAttribute(\"data-nohref\");break a}a=!1}a&&b.preventDefault()},!0);}).call(this);</script><style>#gbar,#guser{font-size:13px;padding-top:1px !important;}#gbar{height:22px}#guser{padding-bottom:7px !important;text-align:right}.gbh,.gbd{border-top:1px solid #c9d7f1;font-size:1px}.gbh{height:0;position:absolute;top:24px;width:100%}@media all{.gb1{height:22px;margin-right:.5em;vertical-align:top}#gbar{float:left}}a.gb1,a.gb4{text-decoration:underline !important}a.gb1,a.gb4{color:#00c !important}.gbi .gb4{color:#dd8e27 !important}.gbf .gb4{color:#900 !important}\n",
            "</style><style>body,td,a,p,.h{font-family:arial,sans-serif}body{margin:0;overflow-y:scroll}#gog{padding:3px 8px 0}td{line-height:.8em}.gac_m td{line-height:17px}form{margin-bottom:20px}.h{color:#1558d6}em{font-weight:bold;font-style:normal}.lst{height:25px;width:496px}.gsfi,.lst{font:18px arial,sans-serif}.gsfs{font:17px arial,sans-serif}.ds{display:inline-box;display:inline-block;margin:3px 0 4px;margin-left:4px}input{font-family:inherit}body{background:#fff;color:#000}a{color:#4b11a8;text-decoration:none}a:hover,a:active{text-decoration:underline}.fl a{color:#1558d6}a:visited{color:#4b11a8}.sblc{padding-top:5px}.sblc a{display:block;margin:2px 0;margin-left:13px;font-size:11px}.lsbb{background:#f8f9fa;border:solid 1px;border-color:#dadce0 #70757a #70757a #dadce0;height:30px}.lsbb{display:block}#WqQANb a{display:inline-block;margin:0 12px}.lsb{background:url(/images/nav_logo229.png) 0 -261px repeat-x;border:none;color:#000;cursor:pointer;height:30px;margin:0;outline:0;font:15px arial,sans-serif;vertical-align:top}.lsb:active{background:#dadce0}.lst:focus{outline:none}</style><script nonce=\"5RfR8VvpIxDjbGEPV96ZSQ==\"></script></head><body bgcolor=\"#fff\"><script nonce=\"5RfR8VvpIxDjbGEPV96ZSQ==\">(function(){var src='/images/nav_logo229.png';var iesg=false;document.body.onload = function(){window.n && window.n();if (document.images){new Image().src=src;}\n",
            "if (!iesg){document.f&&document.f.q.focus();document.gbqf&&document.gbqf.q.focus();}\n",
            "}\n",
            "})();</script><div id=\"mngb\"><div id=gbar><nobr><b class=gb1>Search</b> <a class=gb1 href=\"http://www.google.com/imghp?hl=en&tab=wi\">Images</a> <a class=gb1 href=\"http://maps.google.com/maps?hl=en&tab=wl\">Maps</a> <a class=gb1 href=\"https://play.google.com/?hl=en&tab=w8\">Play</a> <a class=gb1 href=\"http://www.youtube.com/?gl=US&tab=w1\">YouTube</a> <a class=gb1 href=\"https://news.google.com/?tab=wn\">News</a> <a class=gb1 href=\"https://mail.google.com/mail/?tab=wm\">Gmail</a> <a class=gb1 href=\"https://drive.google.com/?tab=wo\">Drive</a> <a class=gb1 style=\"text-decoration:none\" href=\"https://www.google.com/intl/en/about/products?tab=wh\"><u>More</u> &raquo;</a></nobr></div><div id=guser width=100%><nobr><span id=gbn class=gbi></span><span id=gbf class=gbf></span><span id=gbe></span><a href=\"http://www.google.com/history/optout?hl=en\" class=gb4>Web History</a> | <a  href=\"/preferences?hl=en\" class=gb4>Settings</a> | <a target=_top id=gb_70 href=\"https://accounts.google.com/ServiceLogin?hl=en&passive=true&continue=http://www.google.com/&ec=GAZAAQ\" class=gb4>Sign in</a></nobr></div><div class=gbh style=left:0></div><div class=gbh style=right:0></div></div><center><br clear=\"all\" id=\"lgpd\"><div id=\"lga\"><a href=\"/search?ie=UTF-8&amp;q=Paralympics&amp;oi=ddle&amp;ct=192414335&amp;hl=en&amp;si=AHuW2sT-QI6yLdyEfUBJHlK3UbYl5IMFaEVy5cpr0uPqDA9_otVXb9ripiHnz-EX5hXZ_jIa8ESKopokBeQtHfj9KzxO6Dw9kGEpQWJxyyGVK2B-ksVRRB0%3D&amp;sa=X&amp;ved=0ahUKEwjIhvK-uufyAhV7KFkFHUjXAqcQPQgD\"><img alt=\"Doodle Champion Island Games!\" border=\"0\" height=\"196\" src=\"/logos/doodles/2021/doodle-champion-island-games-september-05-6753651837109292-l.png\" title=\"Doodle Champion Island Games!\" width=\"334\" id=\"hplogo\"><br></a><br></div><form action=\"/search\" name=\"f\"><table cellpadding=\"0\" cellspacing=\"0\"><tr valign=\"top\"><td width=\"25%\">&nbsp;</td><td align=\"center\" nowrap=\"\"><input name=\"ie\" value=\"ISO-8859-1\" type=\"hidden\"><input value=\"en\" name=\"hl\" type=\"hidden\"><input name=\"source\" type=\"hidden\" value=\"hp\"><input name=\"biw\" type=\"hidden\"><input name=\"bih\" type=\"hidden\"><div class=\"ds\" style=\"height:32px;margin:4px 0\"><input class=\"lst\" style=\"margin:0;padding:5px 8px 0 6px;vertical-align:top;color:#000\" autocomplete=\"off\" value=\"\" title=\"Google Search\" maxlength=\"2048\" name=\"q\" size=\"57\"></div><br style=\"line-height:0\"><span class=\"ds\"><span class=\"lsbb\"><input class=\"lsb\" value=\"Google Search\" name=\"btnG\" type=\"submit\"></span></span><span class=\"ds\"><span class=\"lsbb\"><input class=\"lsb\" id=\"tsuid1\" value=\"I'm Feeling Lucky\" name=\"btnI\" type=\"submit\"><script nonce=\"5RfR8VvpIxDjbGEPV96ZSQ==\">(function(){var id='tsuid1';document.getElementById(id).onclick = function(){if (this.form.q.value){this.checked = 1;if (this.form.iflsig)this.form.iflsig.disabled = false;}\n",
            "else top.location='/doodles/';};})();</script><input value=\"ALs-wAMAAAAAYTSTa1OaU6bJz2taerwId7RSP18sY8sm\" name=\"iflsig\" type=\"hidden\"></span></span></td><td class=\"fl sblc\" align=\"left\" nowrap=\"\" width=\"25%\"><a href=\"/advanced_search?hl=en&amp;authuser=0\">Advanced search</a></td></tr></table><input id=\"gbv\" name=\"gbv\" type=\"hidden\" value=\"1\"><script nonce=\"5RfR8VvpIxDjbGEPV96ZSQ==\">(function(){\n",
            "var a,b=\"1\";if(document&&document.getElementById)if(\"undefined\"!=typeof XMLHttpRequest)b=\"2\";else if(\"undefined\"!=typeof ActiveXObject){var c,d,e=[\"MSXML2.XMLHTTP.6.0\",\"MSXML2.XMLHTTP.3.0\",\"MSXML2.XMLHTTP\",\"Microsoft.XMLHTTP\"];for(c=0;d=e[c++];)try{new ActiveXObject(d),b=\"2\"}catch(h){}}a=b;if(\"2\"==a&&-1==location.search.indexOf(\"&gbv=2\")){var f=google.gbvu,g=document.getElementById(\"gbv\");g&&(g.value=a);f&&window.setTimeout(function(){location.href=f},0)};}).call(this);</script></form><div id=\"gac_scont\"></div><div style=\"font-size:83%;min-height:3.5em\"><br></div><span id=\"footer\"><div style=\"font-size:10pt\"><div style=\"margin:19px auto;text-align:center\" id=\"WqQANb\"><a href=\"/intl/en/ads/\">Advertising Programs</a><a href=\"/services/\">Business Solutions</a><a href=\"/intl/en/about.html\">About Google</a></div></div><p style=\"font-size:8pt;color:#70757a\">&copy; 2021 - <a href=\"/intl/en/policies/privacy/\">Privacy</a> - <a href=\"/intl/en/policies/terms/\">Terms</a></p></span></center><script nonce=\"5RfR8VvpIxDjbGEPV96ZSQ==\">(function(){window.google.cdo={height:757,width:1440};(function(){\n",
            "var a=window.innerWidth,b=window.innerHeight;if(!a||!b){var c=window.document,d=\"CSS1Compat\"==c.compatMode?c.documentElement:c.body;a=d.clientWidth;b=d.clientHeight}a&&b&&(a!=google.cdo.width||b!=google.cdo.height)&&google.log(\"\",\"\",\"/client_204?&atyp=i&biw=\"+a+\"&bih=\"+b+\"&ei=\"+google.kEI);}).call(this);})();</script> <script nonce=\"5RfR8VvpIxDjbGEPV96ZSQ==\">(function(){google.xjs={ck:'',cs:'',excm:[]};})();</script>  <script nonce=\"5RfR8VvpIxDjbGEPV96ZSQ==\">(function(){var u='/xjs/_/js/k\\x3dxjs.hp.en_US.uJVE4aH5PNY.O/am\\x3dAPgEWA/d\\x3d1/ed\\x3d1/rs\\x3dACT90oHMCNW-abUb8NKgcji0KPjTPcrpeg/m\\x3dsb_he,d';\n",
            "var e=this||self,f=function(a){return a};var g;var l=function(a,b){this.g=b===h?a:\"\"};l.prototype.toString=function(){return this.g+\"\"};var h={};function m(){var a=u;google.lx=function(){n(a);google.lx=function(){}};google.bx||google.lx()}\n",
            "function n(a){google.timers&&google.timers.load&&google.tick&&google.tick(\"load\",\"xjsls\");var b=document;var c=\"SCRIPT\";\"application/xhtml+xml\"===b.contentType&&(c=c.toLowerCase());c=b.createElement(c);if(void 0===g){b=null;var k=e.trustedTypes;if(k&&k.createPolicy){try{b=k.createPolicy(\"goog#html\",{createHTML:f,createScript:f,createScriptURL:f})}catch(p){e.console&&e.console.error(p.message)}g=b}else g=b}a=(b=g)?b.createScriptURL(a):a;a=new l(a,h);c.src=a instanceof l&&a.constructor===l?a.g:\"type_error:TrustedResourceUrl\";var d;a=(c.ownerDocument&&c.ownerDocument.defaultView||window).document;(d=(b=null===(d=a.querySelector)||void 0===d?void 0:d.call(a,\"script[nonce]\"))?b.nonce||b.getAttribute(\"nonce\")||\"\":\"\")&&c.setAttribute(\"nonce\",d);document.body.appendChild(c);google.psa=!0};setTimeout(function(){m()},0);})();(function(){window.google.xjsu='/xjs/_/js/k\\x3dxjs.hp.en_US.uJVE4aH5PNY.O/am\\x3dAPgEWA/d\\x3d1/ed\\x3d1/rs\\x3dACT90oHMCNW-abUb8NKgcji0KPjTPcrpeg/m\\x3dsb_he,d';})();function _DumpException(e){throw e;}\n",
            "function _F_installCss(c){}\n",
            "(function(){google.jl={attn:false,blt:'none',chnk:0,dw:false,emtn:0,end:0,ine:false,lls:'default',pdt:0,rep:0,sif:true,snet:true,strt:0,ubm:false,uwp:true};})();(function(){var pmc='{\\x22d\\x22:{},\\x22sb_he\\x22:{\\x22agen\\x22:true,\\x22cgen\\x22:true,\\x22client\\x22:\\x22heirloom-hp\\x22,\\x22dh\\x22:true,\\x22dhqt\\x22:true,\\x22ds\\x22:\\x22\\x22,\\x22ffql\\x22:\\x22en\\x22,\\x22fl\\x22:true,\\x22host\\x22:\\x22google.com\\x22,\\x22isbh\\x22:28,\\x22jsonp\\x22:true,\\x22msgs\\x22:{\\x22cibl\\x22:\\x22Clear Search\\x22,\\x22dym\\x22:\\x22Did you mean:\\x22,\\x22lcky\\x22:\\x22I\\\\u0026#39;m Feeling Lucky\\x22,\\x22lml\\x22:\\x22Learn more\\x22,\\x22oskt\\x22:\\x22Input tools\\x22,\\x22psrc\\x22:\\x22This search was removed from your \\\\u003Ca href\\x3d\\\\\\x22/history\\\\\\x22\\\\u003EWeb History\\\\u003C/a\\\\u003E\\x22,\\x22psrl\\x22:\\x22Remove\\x22,\\x22sbit\\x22:\\x22Search by image\\x22,\\x22srch\\x22:\\x22Google Search\\x22},\\x22ovr\\x22:{},\\x22pq\\x22:\\x22\\x22,\\x22refpd\\x22:true,\\x22rfs\\x22:[],\\x22sbas\\x22:\\x220 3px 8px 0 rgba(0,0,0,0.2),0 0 0 1px rgba(0,0,0,0.08)\\x22,\\x22sbpl\\x22:16,\\x22sbpr\\x22:16,\\x22scd\\x22:10,\\x22stok\\x22:\\x22_o0rwnR0rTw6Px1VuTjEFInpGB8\\x22,\\x22uhde\\x22:false}}';google.pmc=JSON.parse(pmc);})();</script>        </body></html>\n"
          ]
        }
      ]
    },
    {
      "cell_type": "markdown",
      "metadata": {
        "id": "5PI3LO1X8Y8j"
      },
      "source": [
        "**c) Write a simple script that serves a simple HTTPResponse and a simple HTML Page**"
      ]
    },
    {
      "cell_type": "markdown",
      "metadata": {
        "id": "BNhOTqWuXHLP"
      },
      "source": [
        "**AIM:**\n",
        "\n",
        "Write a simple script that serves a simple HTTPResponse and a simple HTML Page"
      ]
    },
    {
      "cell_type": "markdown",
      "metadata": {
        "id": "yrQAm9WfedKJ"
      },
      "source": [
        "**DESCRIPTION:**\n",
        "\n",
        "HTTP Protocol\n",
        "\n",
        "The most important part of a web server is HTTP protocol.So now we will see what exactly this is –\n",
        "It stands for Hyper Text Transfer Protocol.\n",
        "\n",
        "It is an application layer protocol that allows web based applications to communicate and exchange data.\n",
        "\n",
        "The HTTP is the messenger of web.\n",
        "The computer that communicate via the HTTP must speak the HTTP protocol.\n",
        "\n",
        "It is a TCP/IP based protocol.\n",
        "It is used to deliver contents, for eg. images, audios, videos, documents etc.\n",
        "\n",
        "Using HTTP is the most convenient way to quickly and reliably move data on the web."
      ]
    },
    {
      "cell_type": "markdown",
      "metadata": {
        "id": "Wz-iXlpmJOw5"
      },
      "source": [
        "**CODE:**"
      ]
    },
    {
      "cell_type": "code",
      "metadata": {
        "colab": {
          "background_save": true,
          "base_uri": "https://localhost:8080/"
        },
        "id": "omTRXfuo8fpF",
        "outputId": "251df71d-db3e-49d7-e90b-30498d982803"
      },
      "source": [
        "from flask import Flask,render_template\n",
        "app=Flask(__name__)\n",
        "print(app)\n",
        "@app.route(\"/\")\n",
        "\n",
        "def main():\n",
        "    return render_template('abc.html')\n",
        "\n",
        "if __name__==\"__main__\":\n",
        "    app.run(host=\"127.0.0.1\",port=2500)"
      ],
      "execution_count": null,
      "outputs": [
        {
          "name": "stdout",
          "output_type": "stream",
          "text": [
            "<Flask '__main__'>\n",
            " * Serving Flask app \"__main__\" (lazy loading)\n",
            " * Environment: production\n",
            "\u001b[31m   WARNING: This is a development server. Do not use it in a production deployment.\u001b[0m\n",
            "\u001b[2m   Use a production WSGI server instead.\u001b[0m\n",
            " * Debug mode: off\n"
          ]
        },
        {
          "name": "stderr",
          "output_type": "stream",
          "text": [
            " * Running on http://127.0.0.1:2500/ (Press CTRL+C to quit)\n"
          ]
        }
      ]
    },
    {
      "cell_type": "markdown",
      "metadata": {
        "id": "KAqKQeMP8f-d"
      },
      "source": [
        "## Exercise-13"
      ]
    },
    {
      "cell_type": "markdown",
      "metadata": {
        "id": "Ztsv0BX48lQ2"
      },
      "source": [
        "**a) Class variables and instance variable and illustration of the self-variable**"
      ]
    },
    {
      "cell_type": "markdown",
      "metadata": {
        "id": "IUk88cnsf5rY"
      },
      "source": [
        "**AIM:**\n",
        "\n",
        "Class variables and instance variable and illustration of the self-variable"
      ]
    },
    {
      "cell_type": "markdown",
      "metadata": {
        "id": "PyEHC7wcee0G"
      },
      "source": [
        "**DESCRIPTION:**\n",
        "\n",
        "Variables are named storage location. In python variables are not defined by its type instead it will be automatically determined by the value assigned to it. To determine the type of a variable a function called type () is used.\n",
        "\n",
        "class variableis shared by all object instances of a class. ... They are not defined inside any methods of a class. Because a class variable is shared by instances of a class, the Python class owns the variable. As a result, all instances of the class will be able to access that variable\n",
        "\n",
        "Instance variables are owned by instances of the class. This means that for each object or instance of a class, the instance variables are different. ... Instance variables, owned by objects of the class, allow for each object or instance to have different values assigned to those variables\n",
        "\n",
        "self variable is used to bind the instance of the class to the instance method. We have to explicitly declare it as the first method argument to access the instance variables and methods. This variable is used only with the instance methods."
      ]
    },
    {
      "cell_type": "markdown",
      "metadata": {
        "id": "6PyAkgqH8xnN"
      },
      "source": [
        "**i) Robot**"
      ]
    },
    {
      "cell_type": "code",
      "metadata": {
        "colab": {
          "base_uri": "https://localhost:8080/"
        },
        "id": "LlJT0Lhl8y5Z",
        "outputId": "09612bcb-de7d-4b24-df61-2a358f847ed2"
      },
      "source": [
        "class Robot:\n",
        "    what=\"machine\"\n",
        "    name=\"karthik\"\n",
        "    version=2.0\n",
        "    speed=\"2THZ\"\n",
        "    memory=\"2ZB\"\n",
        "    def update(upd):\n",
        "        upd.version = 3.0\n",
        "        upd.speed = \"3THZ\"\n",
        "        upd.memory = \"3ZB\"\n",
        "    def display(self):\n",
        "        print(\"Myself is a:\",r.what)\n",
        "        print(\"Name:\",r.version)\n",
        "        print(\"Speed:\",r.speed)\n",
        "        print(\"Memory:\",r.memory)\n",
        "\n",
        "r=Robot()\n",
        "r.display()\n",
        "print(\"******updated******\")\n",
        "r.update()\n",
        "r.display()"
      ],
      "execution_count": null,
      "outputs": [
        {
          "name": "stdout",
          "output_type": "stream",
          "text": [
            "Myself is a: machine\n",
            "Name: 2.0\n",
            "Speed: 2THZ\n",
            "Memory: 2ZB\n",
            "******updated******\n",
            "Myself is a: machine\n",
            "Name: 3.0\n",
            "Speed: 3THZ\n",
            "Memory: 3ZB\n"
          ]
        }
      ]
    },
    {
      "cell_type": "markdown",
      "metadata": {
        "id": "ikePPX51883N"
      },
      "source": [
        "**ii) ATM Machine**"
      ]
    },
    {
      "cell_type": "code",
      "metadata": {
        "colab": {
          "base_uri": "https://localhost:8080/"
        },
        "id": "ZJV3vAQn9BxS",
        "outputId": "b99b1291-0464-4d19-c37c-787121ced73d"
      },
      "source": [
        "class ATM:\n",
        "    def __init__(self):\n",
        "        self.balance=0\n",
        "    def enquire(self):\n",
        "        print(\"Balance :\",self.balance)\n",
        "    def deposit(self):\n",
        "        amount=int(input(\"Enter deposit amount:\"))\n",
        "        self.balance+=amount\n",
        "        self.enquire()\n",
        "    def withdraw(self):\n",
        "       amount=int(input(\"Enter withdraw amount:\"))\n",
        "       if self.balance<amount:\n",
        "         print(\"insuffient balance!\")\n",
        "       else:\n",
        "         self.balance-=amount\n",
        "         self.enquire()\n",
        "obj=ATM()\n",
        "while True:\n",
        "    print(\"1.Balance 2.withdraw 3.Deposit 4.Exit\")\n",
        "    op = int(input(\"Enter your option:\"))\n",
        "    if op==1:\n",
        "        obj.enquire()\n",
        "    elif op==2:\n",
        "        obj.withdraw()\n",
        "    elif op==3:\n",
        "        obj.deposit()\n",
        "    elif op==4:\n",
        "        print(\"Thank you\")\n",
        "        break\n",
        "    else:\n",
        "        print(\"invalid option\")"
      ],
      "execution_count": null,
      "outputs": [
        {
          "name": "stdout",
          "output_type": "stream",
          "text": [
            "1.Balance 2.withdraw 3.Deposit 4.Exit\n",
            "Enter your option:1\n",
            "Balance : 0\n",
            "1.Balance 2.withdraw 3.Deposit 4.Exit\n",
            "Enter your option:3\n",
            "Enter deposit amount:1000\n",
            "Balance : 1000\n",
            "1.Balance 2.withdraw 3.Deposit 4.Exit\n",
            "Enter your option:4\n",
            "Thank you\n"
          ]
        }
      ]
    },
    {
      "cell_type": "markdown",
      "metadata": {
        "id": "luDdySeJ9SXp"
      },
      "source": [
        "## Exercise-14"
      ]
    },
    {
      "cell_type": "markdown",
      "metadata": {
        "id": "W2kD4mrDUgoC"
      },
      "source": [
        "**a)write a GUI for an Expression calculator using tk**"
      ]
    },
    {
      "cell_type": "markdown",
      "metadata": {
        "id": "NmqAN1dzHW6x"
      },
      "source": [
        "**Aim:**To write a GUI for an Expression calculator using tk"
      ]
    },
    {
      "cell_type": "markdown",
      "metadata": {
        "id": "yQechv2tehsb"
      },
      "source": [
        "**DESCRIPTION:**\n",
        "\n",
        "Tkinter is a Python package which comes with many functions and methods that can be used to create an application. In order to create a tkinter application, we generally create an instance of tkinter frame, i.e., Tk(). It helps to display the root window and manages all the other components of the tkinter application. We can initialize the tkinter instance by assigning the variable to it.\n",
        "\n"
      ]
    },
    {
      "cell_type": "markdown",
      "metadata": {
        "id": "C4L6q9u7JTZ1"
      },
      "source": [
        "**CODE:**"
      ]
    },
    {
      "cell_type": "code",
      "metadata": {
        "id": "YkFK16fmUhrF"
      },
      "source": [
        "from tkinter import *\n",
        "win=Tk()\n",
        "win.geometry(\"312x354\")\n",
        "win.resizable(0,0)\n",
        "win.title(\"My calculator\")\n",
        "def bt_click(item):\n",
        "    global expression\n",
        "    expression=expression+str(item)\n",
        "    input_text.set(expression)\n",
        "def bt_clear():\n",
        "    global expression\n",
        "    expression=\"\"\n",
        "    input_text.set(\"\")\n",
        "def bt_equal():\n",
        "    global expression\n",
        "    result=str(eval(expression))\n",
        "    input_text.set(result)\n",
        "    expression = \"\"    \n",
        "expression = \"\"\n",
        "\n",
        "input_text=StringVar()\n",
        "input_frame=Frame(win,width=312,height=50,bd=0,highlightbackground=\"black\",highlightcolor=\"black\",highlightthickness=2)\n",
        "input_frame.pack(side=TOP)\n",
        "input_field=Entry(input_frame,font=('arial',18,'bold'),textvariable=input_text,width=50,bg=\"#eee\",bd=0,justify=RIGHT)\n",
        "input_field.grid(row=0,column=0)\n",
        "input_field.pack(ipady=10)\n",
        "btns_frame=Frame(win,width=312,height=272.6,bg=\"grey\")\n",
        "btns_frame.pack()\n",
        "\n",
        "clear=Button(btns_frame,text=\"C\",fg=\"black\",width=32,height=3,bd=0,bg=\"#eee\",cursor=\"hand2\",command=lambda:bt_clear()).grid(row=0,column=0,columnspan=3,padx=1,pady=1)\n",
        "divide=Button(btns_frame,text=\"/\",fg=\"black\",width=10,height=3,bd=0,bg=\"#eee\",cursor=\"hand2\",command=lambda:bt_click(\"/\")).grid(row=0,column=3,padx=1,pady=1)\n",
        "seven=Button(btns_frame,text=\"7\",fg=\"black\",width=10,height=3,bd=0,bg=\"#fff\",cursor=\"hand2\",command=lambda:bt_click(7)).grid(row=1,column=0,padx=1,pady=1)\n",
        "eight=Button(btns_frame,text=\"8\",fg=\"black\",width=10,height=3,bd=0,bg=\"#fff\",cursor=\"hand2\",command=lambda:bt_click(8)).grid(row=1,column=1,padx=1,pady=1)\n",
        "nine=Button(btns_frame,text=\"9\",fg=\"black\",width=10,height=3,bd=0,bg=\"#fff\",cursor=\"hand2\",command=lambda:bt_click(9)).grid(row=1,column=2,padx=1,pady=1)\n",
        "multiply=Button(btns_frame,text=\"*\",fg=\"black\",width=10,height=3,bd=0,bg=\"#eee\",cursor=\"hand2\",command=lambda:bt_click(\"*\")).grid(row=1,column=3,padx=1,pady=1)\n",
        "four=Button(btns_frame,text=\"4\",fg=\"black\",width=10,height=3,bd=0,bg=\"#fff\",cursor=\"hand2\",command=lambda:bt_click(4)).grid(row=2,column=0,padx=1,pady=1)\n",
        "five=Button(btns_frame,text=\"5\",fg=\"black\",width=10,height=3,bd=0,bg=\"#fff\",cursor=\"hand2\",command=lambda:bt_click(5)).grid(row=2,column=1,padx=1,pady=1)\n",
        "six=Button(btns_frame,text=\"6\",fg=\"black\",width=10,height=3,bd=0,bg=\"#fff\",cursor=\"hand2\",command=lambda:bt_click(6)).grid(row=2,column=2,padx=1,pady=1)\n",
        "minus=Button(btns_frame,text=\"-\",fg=\"black\",width=10,height=3,bd=0,bg=\"#eee\",cursor=\"hand2\",command=lambda:bt_click(\"-\")).grid(row=2,column=3,padx=1,pady=1)\n",
        "one=Button(btns_frame,text=\"1\",fg=\"black\",width=10,height=3,bd=0,bg=\"#fff\",cursor=\"hand2\",command=lambda:bt_click(1)).grid(row=3,column=0,padx=1,pady=1)\n",
        "two=Button(btns_frame,text=\"2\",fg=\"black\",width=10,height=3,bd=0,bg=\"#fff\",cursor=\"hand2\",command=lambda:bt_click(2)).grid(row=3,column=1,padx=1,pady=1)\n",
        "three=Button(btns_frame,text=\"3\",fg=\"black\",width=10,height=3,bd=0,bg=\"#fff\",cursor=\"hand2\",command=lambda:bt_click(3)).grid(row=3,column=2,padx=1,pady=1)\n",
        "plus=Button(btns_frame,text=\"+\",fg=\"black\",width=10,height=3,bd=0,bg=\"#eee\",cursor=\"hand2\",command=lambda:bt_click(\"+\")).grid(row=3,column=3,padx=1,pady=1)\n",
        "zero=Button(btns_frame,text=\"0\",fg=\"black\",width=21,height=3,bd=0,bg=\"#fff\",cursor=\"hand2\",command=lambda:bt_click(0)).grid(row=4,column=0,columnspan=2,padx=1,pady=1)\n",
        "point=Button(btns_frame,text=\".\",fg=\"black\",width=10,height=3,bd=0,bg=\"#eee\",cursor=\"hand2\",command=lambda:bt_click(\".\")).grid(row=4,column=2,padx=1,pady=1)\n",
        "equals=Button(btns_frame,text=\"=\",fg=\"black\",width=10,height=3,bd=0,bg=\"#eee\",cursor=\"hand2\",command=lambda:bt_equal()).grid(row=4,column=3,padx=1,pady=1)\n"
      ],
      "execution_count": null,
      "outputs": []
    },
    {
      "cell_type": "markdown",
      "metadata": {
        "id": "rVTZI4BMV5uM"
      },
      "source": [
        "**output:**"
      ]
    },
    {
      "cell_type": "markdown",
      "metadata": {
        "id": "-H3ij-LJUkey"
      },
      "source": [
        "![Screenshot (32).png](data:image/png;base64,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)"
      ]
    },
    {
      "cell_type": "markdown",
      "metadata": {
        "id": "VHd2pPnA9VgA"
      },
      "source": [
        "**2. Write a program to implement the following figures using turtle**"
      ]
    },
    {
      "cell_type": "markdown",
      "metadata": {
        "id": "2Z0geOVxej4b"
      },
      "source": [
        "**DESCRIPTION:**\n",
        "The turtle module is an extended reimplementation of the same-named module from the Python standard distribution up to version Python 2.5.\n",
        "\n",
        "It tries to keep the merits of the old turtle module and to be (nearly) 100% compatible with it. This means in the first place to enable the learning programmer to use all the commands, classes and methods interactively when using the module from within IDLE run with the -n switch.\n",
        "\n",
        "The turtle module provides turtle graphics primitives, in both object-oriented and procedure-oriented ways. Because it uses tkinter for the underlying graphics, it needs a version of Python installed with Tk support."
      ]
    },
    {
      "cell_type": "markdown",
      "metadata": {
        "id": "4DhUzsl0JVkg"
      },
      "source": [
        "**CODE:**"
      ]
    },
    {
      "cell_type": "code",
      "metadata": {
        "id": "818qvwl29kgD"
      },
      "source": [
        "import turtle\n",
        "c=[\"red\",\"green\",\"blue\"]\n",
        "i=0\n",
        "turtle.pensize(3)\n",
        "for angle in range(0,360,30):\n",
        "   if i>2:\n",
        "        i=0\n",
        "   turtle.color(c[i])\n",
        "   turtle.seth(angle)\n",
        "   turtle.circle(100)\n",
        "   i+=1"
      ],
      "execution_count": null,
      "outputs": []
    },
    {
      "cell_type": "markdown",
      "metadata": {
        "id": "xa8HEB0pU2mv"
      },
      "source": [
        "![Screenshot (36).png](data:image/png;base64,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)"
      ]
    },
    {
      "cell_type": "markdown",
      "metadata": {
        "id": "UH7NtckbJXLJ"
      },
      "source": [
        "**Code:**"
      ]
    },
    {
      "cell_type": "code",
      "metadata": {
        "id": "kLadXQMnelR_"
      },
      "source": [
        "import turtle\n",
        "turtle.pensize(1)\n",
        "for i in range(36):\n",
        "    for j in range(4):\n",
        "        turtle.forward(100)\n",
        "        turtle.left(90)\n",
        "    turtle.right(10)"
      ],
      "execution_count": null,
      "outputs": []
    },
    {
      "cell_type": "markdown",
      "metadata": {
        "id": "W_VUMaKzYp8o"
      },
      "source": [
        "![Screenshot (39).png](data:image/png;base64,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)"
      ]
    },
    {
      "cell_type": "markdown",
      "metadata": {
        "id": "Zaay3N1J6gwR"
      },
      "source": [
        "## Exercise-15"
      ]
    },
    {
      "cell_type": "markdown",
      "metadata": {
        "id": "eDNpNMwxe-qN"
      },
      "source": [
        "**a) Write a test-case to check the function even numbers which return True on passing a list of all even \n",
        "numbers**"
      ]
    },
    {
      "cell_type": "markdown",
      "metadata": {
        "id": "jwFRmJ02JDxz"
      },
      "source": [
        "**AIM:**To write a test-case to check the function even numbers which return True on passing a list of all even numbers\n",
        "\n"
      ]
    },
    {
      "cell_type": "markdown",
      "metadata": {
        "id": "twCplytLemLI"
      },
      "source": [
        "**DESCRIPTION:**\n",
        "\n",
        "TestCase is used to create test cases by subclassing it. The last block of the code at the bottom allows us to run all the tests just by running the file. Basic terms used in the code : assertEqual() – This statement is used to check if the result obtained is equal to the expected result\n",
        "\n",
        "test case:\n",
        "\n",
        "A test case is a set of conditions which is used to determine whether a system under test works correctly."
      ]
    },
    {
      "cell_type": "markdown",
      "metadata": {
        "id": "2lZwFMFSJY2p"
      },
      "source": [
        "**CODE:**"
      ]
    },
    {
      "cell_type": "code",
      "metadata": {
        "colab": {
          "base_uri": "https://localhost:8080/"
        },
        "id": "xLD4iwY9fLIA",
        "outputId": "35f7c2cd-c990-4539-ef31-a5cae3e65d89"
      },
      "source": [
        "def evenon(nums):\n",
        "  state=True\n",
        "  for i in nums:\n",
        "    if i%2==1:\n",
        "      state=False\n",
        "      break\n",
        "  return state\n",
        "\n",
        "numbers=[]\n",
        "for i in range(5):\n",
        "  numbers.append(int(input(\"Enter a value\")))\n",
        "print(evenon(numbers)) "
      ],
      "execution_count": null,
      "outputs": [
        {
          "name": "stdout",
          "output_type": "stream",
          "text": [
            "Enter a value22\n",
            "Enter a value14\n",
            "Enter a value86\n",
            "Enter a value18\n",
            "Enter a value10\n",
            "True\n"
          ]
        }
      ]
    },
    {
      "cell_type": "markdown",
      "metadata": {
        "id": "Xb_LplX1fLVm"
      },
      "source": [
        "**b) Write a test-case to check the function reverse string which returns the reversed string**"
      ]
    },
    {
      "cell_type": "markdown",
      "metadata": {
        "id": "m2wXn6F4JcO5"
      },
      "source": [
        "**AIM:**\n",
        "\n",
        "To write a test-case to check the function reverse string which returns the reversed string"
      ]
    },
    {
      "cell_type": "markdown",
      "metadata": {
        "id": "-lnMpIhgeoGw"
      },
      "source": [
        "**DESCRIPTION:**\n",
        "\n",
        "Python string library does’nt support the in-built “reverse()” as done by other python containers like list, hence knowing other methods to reverse string can prove to be useful. This article discusses several ways to achieve it.\n",
        "\n",
        "The reversed() returns the reversed iterator of the given string and then its elements are joined empty string separated using join(). And reversed order string is formed."
      ]
    },
    {
      "cell_type": "markdown",
      "metadata": {
        "id": "AELmXQ1GJaVe"
      },
      "source": [
        "**CODE:**"
      ]
    },
    {
      "cell_type": "code",
      "metadata": {
        "colab": {
          "base_uri": "https://localhost:8080/"
        },
        "id": "WiGdNtn0fvni",
        "outputId": "9ff094d4-ce1d-48da-e973-d0ca2e93f3ab"
      },
      "source": [
        "def revstring(str1):\n",
        "  temp=\"\"\n",
        "  for i in range(len(str1)-1,-1,-1):\n",
        "    temp+=str1[i]\n",
        "  return temp\n",
        "\n",
        "st=\"karthikeya\"\n",
        "print(\"Given string is:\",st)\n",
        "print(\"Reverse string is\",revstring(st))"
      ],
      "execution_count": null,
      "outputs": [
        {
          "name": "stdout",
          "output_type": "stream",
          "text": [
            "Given string is: karthikeya\n",
            "Reverse string is ayekihtrak\n"
          ]
        }
      ]
    },
    {
      "cell_type": "markdown",
      "metadata": {
        "id": "o8rV_BnJjTLO"
      },
      "source": [
        "## Exercise-16"
      ]
    },
    {
      "cell_type": "markdown",
      "metadata": {
        "id": "5TTa7LH8jGHZ"
      },
      "source": [
        "**a) Build any one classical data structure.**"
      ]
    },
    {
      "cell_type": "markdown",
      "metadata": {
        "id": "DXoAcUTfJnji"
      },
      "source": [
        "**AIM:**\n",
        "\n",
        "To Build any one classical data structure."
      ]
    },
    {
      "cell_type": "markdown",
      "metadata": {
        "id": "XU7mq_ixBrJf"
      },
      "source": [
        "**DESCRIPTION:**\n",
        "\n",
        "**What is a Data Structure?**\n",
        "\n",
        "Organizing, managing and storing data is important as it enables easier access and efficient modifications. Data Structures allows you to organize your data in such a way that enables you to store collections of data, relate them and perform operations on them accordingly.\n",
        "\n",
        "**Stack**\n",
        "\n",
        " Stacks are linear Data Structures which are based on the principle of Last-In-First-Out (LIFO) where data which is entered last will be the first to get accessed. It is built using the array structure and has operations namely, pushing (adding) elements, popping (deleting) elements and accessing elements only from one point in the stack called as the TOP. This TOP is the pointer to the current position of the stack. Stacks are prominently used in applications such as Recursive Programming, reversing words, undo mechanisms in word editors and so forth."
      ]
    },
    {
      "cell_type": "markdown",
      "metadata": {
        "id": "pdmmq_mYJb6A"
      },
      "source": [
        "**CODE:**"
      ]
    },
    {
      "cell_type": "code",
      "metadata": {
        "colab": {
          "base_uri": "https://localhost:8080/",
          "height": 488
        },
        "id": "ssqrd2oujjA3",
        "outputId": "6de12c16-011a-4003-dfe8-edc729036350"
      },
      "source": [
        "import sys\n",
        "a=[]\n",
        "while True:\n",
        "  print(\"1.PUSH 2.POP 3.DISPLAY 4.EXIT\")\n",
        "  ch=int(input(\"Enter your choice:\"))\n",
        "  if ch==1:\n",
        "    ele=int(input(\"Enter element:\"))\n",
        "    a.append(ele)\n",
        "    print(\"Element is inserted\")\n",
        "  elif ch==2:\n",
        "    if len(a)==0:\n",
        "      print(\"Stack is empty\")\n",
        "    else:\n",
        "      print(\"poped element is \",a[len(a)-1])\n",
        "      a.remove(a[len(a)-1])\n",
        "  elif ch==3:\n",
        "    if len(a)==0:\n",
        "      print(\"Stack is empty\")\n",
        "    else:\n",
        "      print(\"Element in stack is \")\n",
        "      for i in a:\n",
        "        print(i)\n",
        "  elif ch==4:\n",
        "    sys.exit()\n",
        "  else:\n",
        "    print(\"Invalid choice\")"
      ],
      "execution_count": null,
      "outputs": [
        {
          "name": "stdout",
          "output_type": "stream",
          "text": [
            "1.PUSH 2.POP 3.DISPLAY 4.EXIT\n",
            "Enter your choice:1\n",
            "Enter element:5\n",
            "Element is inserted\n",
            "1.PUSH 2.POP 3.DISPLAY 4.EXIT\n",
            "Enter your choice:1\n",
            "Enter element:3\n",
            "Element is inserted\n",
            "1.PUSH 2.POP 3.DISPLAY 4.EXIT\n",
            "Enter your choice:1\n",
            "Enter element:6\n",
            "Element is inserted\n",
            "1.PUSH 2.POP 3.DISPLAY 4.EXIT\n",
            "Enter your choice:3\n",
            "Element in stack is \n",
            "5\n",
            "3\n",
            "6\n",
            "1.PUSH 2.POP 3.DISPLAY 4.EXIT\n",
            "Enter your choice:4\n"
          ]
        },
        {
          "ename": "SystemExit",
          "evalue": "ignored",
          "output_type": "error",
          "traceback": [
            "An exception has occurred, use %tb to see the full traceback.\n",
            "\u001b[0;31mSystemExit\u001b[0m\n"
          ]
        },
        {
          "name": "stderr",
          "output_type": "stream",
          "text": [
            "/usr/local/lib/python3.7/dist-packages/IPython/core/interactiveshell.py:2890: UserWarning: To exit: use 'exit', 'quit', or Ctrl-D.\n",
            "  warn(\"To exit: use 'exit', 'quit', or Ctrl-D.\", stacklevel=1)\n"
          ]
        }
      ]
    },
    {
      "cell_type": "markdown",
      "metadata": {
        "id": "uVO7X5Yxjk9y"
      },
      "source": [
        "**b) Write a program to solve knapsack problem.**"
      ]
    },
    {
      "cell_type": "markdown",
      "metadata": {
        "id": "z1nH6ZKGHsH5"
      },
      "source": [
        "**AIM:**\n",
        "\n",
        "To write a program to solve knapsack problem."
      ]
    },
    {
      "cell_type": "markdown",
      "metadata": {
        "id": "iSu39rPxe3UU"
      },
      "source": [
        "**DESCRIPTION:**\n",
        "\n",
        "Python Program for 0-1 Knapsack Problem\n",
        "\n",
        "Problem statement − We are given weights and values of n items, we need to put these items in a bag of capacity W up to the maximum capacity w. We need to carry a maximum number of items and return its value.\n",
        "\n",
        "Brute-force approach.\n",
        "\n",
        "dynamic approach."
      ]
    },
    {
      "cell_type": "markdown",
      "metadata": {
        "id": "1a7hCsd2Jdh2"
      },
      "source": [
        "**CODE:**"
      ]
    },
    {
      "cell_type": "code",
      "metadata": {
        "colab": {
          "base_uri": "https://localhost:8080/"
        },
        "id": "B_dkBCKZjrdL",
        "outputId": "40afa688-3d74-414d-f928-dcf334786115"
      },
      "source": [
        "def knapsack(W,wt,val,n):\n",
        "  k=[[0 for x in range(W+1)]for x in range(n+1)]\n",
        "  for i in range(n+1):\n",
        "    for w in range(W+1):\n",
        "      if i==0 or w==0:\n",
        "        k[i][w]=0\n",
        "      elif wt[i-1]<=w:\n",
        "        k[i][w]=max(val[i-1]+k[i-1][w-wt[i-1]],k[i-1][w])\n",
        "      else:\n",
        "        k[i][w]=k[i-1][w]\n",
        "  return k[n][w]\n",
        "val=[5,3,4]\n",
        "wt=[3,2,1]\n",
        "W=5\n",
        "n=len(val)\n",
        "print(\"Maximum value knapsack of capacity W:\",knapsack(W,wt,val,n))"
      ],
      "execution_count": null,
      "outputs": [
        {
          "name": "stdout",
          "output_type": "stream",
          "text": [
            "Maximum value knapsack of capacity W: 9\n"
          ]
        }
      ]
    },
    {
      "cell_type": "markdown",
      "metadata": {
        "id": "I40TONITjsgP"
      },
      "source": [
        "## Exercise-17 & 18"
      ]
    },
    {
      "cell_type": "markdown",
      "metadata": {
        "id": "FFAKKvBijwTR"
      },
      "source": [
        "**Data analysis or manipulation using the following packages**\n"
      ]
    },
    {
      "cell_type": "markdown",
      "metadata": {
        "id": "MNvdjB4Xh1n_"
      },
      "source": [
        "**AIM:**\n",
        "\n",
        "To Data analysis or manipulation using the following packages"
      ]
    },
    {
      "cell_type": "markdown",
      "metadata": {
        "id": "QaE6oa9xfA8a"
      },
      "source": [
        "**DESCRIPTION:**\n",
        "\n",
        "\n",
        "Learn how to analyze data using Python. ... It includes following parts: Data Analysis libraries: will learn to use Pandas, Numpy and Scipy libraries to work with a sample dataset. We will introduce you to pandas, an open-source library, and we will use it to load, manipulate, analyze, and visualize cool datasets.\n",
        "\n",
        "**NumPy** is the fundamental package for scientific computing in Python. ... NumPy arrays facilitate advanced mathematical and other types of operations on large numbers of data.\n",
        "\n",
        "**SciPy** is a free and open-source Python library used for scientific computing and technical computing. It is a collection of mathematical algorithms and convenience functions built on the NumPy extension of Python\n",
        "\n",
        "**Pandas** is an open source Python package that is most widely used for data science/data analysis and machine learning tasks. It is built on top of another package named Numpy, which provides support for multi-dimensional arrays.\n",
        "\n",
        "**Matplotlib** is a plotting library for the Python programming language and its numerical mathematics extension NumPy. It provides an object-oriented API for embedding plots into applications using general-purpose GUI toolkits like Tkinter, wxPython, Qt, or GTK\n",
        "\n"
      ]
    },
    {
      "cell_type": "markdown",
      "metadata": {
        "id": "_iC1PHVXiaVA"
      },
      "source": [
        "**CODE:**"
      ]
    },
    {
      "cell_type": "markdown",
      "metadata": {
        "id": "WCyUUdeNkFkq"
      },
      "source": [
        "### **a) Numpy**"
      ]
    },
    {
      "cell_type": "code",
      "metadata": {
        "colab": {
          "base_uri": "https://localhost:8080/"
        },
        "id": "1BsapnVFB_Ka",
        "outputId": "f853bdc5-83fb-4121-eda3-f512743453b5"
      },
      "source": [
        "import numpy as np\n",
        "x=np.array(5) #0-dimension array\n",
        "print(x.dtype)\n",
        "print(x.ndim)\n",
        "print(x.shape)\n",
        "print(x)"
      ],
      "execution_count": null,
      "outputs": [
        {
          "output_type": "stream",
          "name": "stdout",
          "text": [
            "int64\n",
            "0\n",
            "()\n",
            "5\n"
          ]
        }
      ]
    },
    {
      "cell_type": "code",
      "metadata": {
        "colab": {
          "base_uri": "https://localhost:8080/"
        },
        "id": "63-CDrzikAY5",
        "outputId": "6c2b407f-0788-45e8-b190-332a75d8b36c"
      },
      "source": [
        "data=np.array([2,6,3,7,8]) #1-dimension array\n",
        "print(type(data))\n",
        "print(data)\n",
        "print(data[4])"
      ],
      "execution_count": null,
      "outputs": [
        {
          "name": "stdout",
          "output_type": "stream",
          "text": [
            "<class 'numpy.ndarray'>\n",
            "[2 6 3 7 8]\n",
            "8\n"
          ]
        }
      ]
    },
    {
      "cell_type": "code",
      "metadata": {
        "colab": {
          "base_uri": "https://localhost:8080/"
        },
        "id": "55vSqLclm4hc",
        "outputId": "13e51bf1-c334-44f8-a225-e9a793de193b"
      },
      "source": [
        "m=np.array([[1,2,3],[4,5,6],[7,8,9]]) #2-dimension array\n",
        "print(m.ndim)\n",
        "print(m.shape)\n",
        "print(m)\n",
        "print(m[2,0:3])"
      ],
      "execution_count": null,
      "outputs": [
        {
          "name": "stdout",
          "output_type": "stream",
          "text": [
            "2\n",
            "(3, 3)\n",
            "[[1 2 3]\n",
            " [4 5 6]\n",
            " [7 8 9]]\n",
            "[7 8 9]\n"
          ]
        }
      ]
    },
    {
      "cell_type": "code",
      "metadata": {
        "colab": {
          "base_uri": "https://localhost:8080/"
        },
        "id": "dzmi0isVE6xN",
        "outputId": "9d0a1482-1842-4b89-fd6b-f2442ecf2161"
      },
      "source": [
        "data=np.array([2,6,3,9],ndmin=5) #n-dimension array\n",
        "print(type(data))\n",
        "print(data)"
      ],
      "execution_count": null,
      "outputs": [
        {
          "name": "stdout",
          "output_type": "stream",
          "text": [
            "<class 'numpy.ndarray'>\n",
            "[[[[[2 6 3 9]]]]]\n"
          ]
        }
      ]
    },
    {
      "cell_type": "code",
      "metadata": {
        "colab": {
          "base_uri": "https://localhost:8080/"
        },
        "id": "c1tMHmdqqAlT",
        "outputId": "a9cd21f2-58f9-4c76-ed5f-550870e679ee"
      },
      "source": [
        "arr=np.array([23,12,43,56,76,15])\n",
        "x=arr.copy()\n",
        "arr[0]=5\n",
        "print(x)\n",
        "print(arr)"
      ],
      "execution_count": null,
      "outputs": [
        {
          "name": "stdout",
          "output_type": "stream",
          "text": [
            "[23 12 43 56 76 15]\n",
            "[ 5 12 43 56 76 15]\n"
          ]
        }
      ]
    },
    {
      "cell_type": "code",
      "metadata": {
        "colab": {
          "base_uri": "https://localhost:8080/"
        },
        "id": "e7gUmhV6Df6E",
        "outputId": "20f656c3-d7af-4c09-ed77-5229e992167d"
      },
      "source": [
        "arr=np.array([23,12,43,56,76,15])\n",
        "x=arr.view()\n",
        "arr[0]=5\n",
        "print(x)\n",
        "print(arr)"
      ],
      "execution_count": null,
      "outputs": [
        {
          "name": "stdout",
          "output_type": "stream",
          "text": [
            "[ 5 12 43 56 76 15]\n",
            "[ 5 12 43 56 76 15]\n"
          ]
        }
      ]
    },
    {
      "cell_type": "code",
      "metadata": {
        "colab": {
          "base_uri": "https://localhost:8080/"
        },
        "id": "RG-bU8jnD4DW",
        "outputId": "9db848d5-cf42-446c-da24-600d2b7a3d16"
      },
      "source": [
        "arr1=np.array([[23,12,43],[56,76,15]])\n",
        "arr2=np.array([[33,42,12],[68,2,54]])\n",
        "arr=np.concatenate((arr1,arr2),axis=0)\n",
        "print(arr)\n",
        "arr=np.concatenate((arr1,arr2),axis=1)\n",
        "print(arr)\n",
        "print(np.array_split(arr,4))"
      ],
      "execution_count": null,
      "outputs": [
        {
          "name": "stdout",
          "output_type": "stream",
          "text": [
            "[[23 12 43]\n",
            " [56 76 15]\n",
            " [33 42 12]\n",
            " [68  2 54]]\n",
            "[[23 12 43 33 42 12]\n",
            " [56 76 15 68  2 54]]\n",
            "[array([[23, 12, 43, 33, 42, 12]]), array([[56, 76, 15, 68,  2, 54]]), array([], shape=(0, 6), dtype=int64), array([], shape=(0, 6), dtype=int64)]\n"
          ]
        }
      ]
    },
    {
      "cell_type": "code",
      "metadata": {
        "colab": {
          "base_uri": "https://localhost:8080/"
        },
        "id": "ykY1UUQeBQTW",
        "outputId": "3585bccb-868c-41cb-cf4a-4b5ad9aa78a8"
      },
      "source": [
        "from numpy import random\n",
        "x=random.randint(100,size=5)\n",
        "print(x)"
      ],
      "execution_count": null,
      "outputs": [
        {
          "name": "stdout",
          "output_type": "stream",
          "text": [
            "[77 99  0 64  1]\n"
          ]
        }
      ]
    },
    {
      "cell_type": "code",
      "metadata": {
        "colab": {
          "base_uri": "https://localhost:8080/"
        },
        "id": "N4j5sKb2Bg4E",
        "outputId": "7b865738-036d-4d48-b012-21876a4a1ce7"
      },
      "source": [
        "y=random.rand(3,2)\n",
        "print(y)"
      ],
      "execution_count": null,
      "outputs": [
        {
          "name": "stdout",
          "output_type": "stream",
          "text": [
            "[[0.60181728 0.43294844]\n",
            " [0.68782243 0.96633626]\n",
            " [0.48386867 0.25189953]]\n"
          ]
        }
      ]
    },
    {
      "cell_type": "code",
      "metadata": {
        "colab": {
          "base_uri": "https://localhost:8080/"
        },
        "id": "EnXadFTvBs89",
        "outputId": "b1f037ea-1cc7-4af6-cdf5-f6d260adbac4"
      },
      "source": [
        "z=random.choice([2,5,1,7,8,3])\n",
        "print(z)"
      ],
      "execution_count": null,
      "outputs": [
        {
          "name": "stdout",
          "output_type": "stream",
          "text": [
            "3\n"
          ]
        }
      ]
    },
    {
      "cell_type": "markdown",
      "metadata": {
        "id": "6NkT4oLhkXSt"
      },
      "source": [
        "### **b) Pandas**"
      ]
    },
    {
      "cell_type": "code",
      "metadata": {
        "colab": {
          "base_uri": "https://localhost:8080/"
        },
        "id": "HGqTbMOjkegQ",
        "outputId": "9575705e-3da5-4697-e84a-701f50d48e24"
      },
      "source": [
        "import pandas as pd\n",
        "data=pd.Series([1,2,3,4,5],index=['A','B','C','D','E'])\n",
        "print(data)"
      ],
      "execution_count": null,
      "outputs": [
        {
          "name": "stdout",
          "output_type": "stream",
          "text": [
            "A    1\n",
            "B    2\n",
            "C    3\n",
            "D    4\n",
            "E    5\n",
            "dtype: int64\n"
          ]
        }
      ]
    },
    {
      "cell_type": "code",
      "metadata": {
        "colab": {
          "base_uri": "https://localhost:8080/"
        },
        "id": "9n2UGgLinzRl",
        "outputId": "87e95225-7b65-4823-ad0b-bffe933365d7"
      },
      "source": [
        "data={'Gen':['M','F','M'],'EiD':[101,102,103],'Age':[26,30,24],'Name':[\"karthik\",\"siva\",\"kiran\"]}\n",
        "d=pd.DataFrame(data,columns=['EiD','Name','Gen','Age'])\n",
        "print(d)"
      ],
      "execution_count": null,
      "outputs": [
        {
          "name": "stdout",
          "output_type": "stream",
          "text": [
            "   EiD     Name Gen  Age\n",
            "0  101  karthik   M   26\n",
            "1  102     siva   F   30\n",
            "2  103    kiran   M   24\n"
          ]
        }
      ]
    },
    {
      "cell_type": "code",
      "metadata": {
        "colab": {
          "base_uri": "https://localhost:8080/"
        },
        "id": "Dnpc37Hl1NY6",
        "outputId": "a2e8b28a-632d-4d9f-fbff-5534aef4920d"
      },
      "source": [
        "import pandas as pd\n",
        "from numpy import loadtxt\n",
        "from urllib.request import urlopen \n",
        "url='https://raw.githubusercontent.com/jbrownlee/datasets/master/pima-indians-diabetes.data.csv'\n",
        "raw_data=pd.read_csv(urlopen(url)) \n",
        "raw_data.shape"
      ],
      "execution_count": null,
      "outputs": [
        {
          "output_type": "execute_result",
          "data": {
            "text/plain": [
              "(767, 9)"
            ]
          },
          "metadata": {},
          "execution_count": 1
        }
      ]
    },
    {
      "cell_type": "code",
      "metadata": {
        "colab": {
          "base_uri": "https://localhost:8080/",
          "height": 206
        },
        "id": "k66vvkoj1W51",
        "outputId": "92974f00-03f8-468e-b880-4b74a8796f37"
      },
      "source": [
        "raw_data.head()"
      ],
      "execution_count": null,
      "outputs": [
        {
          "output_type": "execute_result",
          "data": {
            "text/html": [
              "<div>\n",
              "<style scoped>\n",
              "    .dataframe tbody tr th:only-of-type {\n",
              "        vertical-align: middle;\n",
              "    }\n",
              "\n",
              "    .dataframe tbody tr th {\n",
              "        vertical-align: top;\n",
              "    }\n",
              "\n",
              "    .dataframe thead th {\n",
              "        text-align: right;\n",
              "    }\n",
              "</style>\n",
              "<table border=\"1\" class=\"dataframe\">\n",
              "  <thead>\n",
              "    <tr style=\"text-align: right;\">\n",
              "      <th></th>\n",
              "      <th>6</th>\n",
              "      <th>148</th>\n",
              "      <th>72</th>\n",
              "      <th>35</th>\n",
              "      <th>0</th>\n",
              "      <th>33.6</th>\n",
              "      <th>0.627</th>\n",
              "      <th>50</th>\n",
              "      <th>1</th>\n",
              "    </tr>\n",
              "  </thead>\n",
              "  <tbody>\n",
              "    <tr>\n",
              "      <th>0</th>\n",
              "      <td>1</td>\n",
              "      <td>85</td>\n",
              "      <td>66</td>\n",
              "      <td>29</td>\n",
              "      <td>0</td>\n",
              "      <td>26.6</td>\n",
              "      <td>0.351</td>\n",
              "      <td>31</td>\n",
              "      <td>0</td>\n",
              "    </tr>\n",
              "    <tr>\n",
              "      <th>1</th>\n",
              "      <td>8</td>\n",
              "      <td>183</td>\n",
              "      <td>64</td>\n",
              "      <td>0</td>\n",
              "      <td>0</td>\n",
              "      <td>23.3</td>\n",
              "      <td>0.672</td>\n",
              "      <td>32</td>\n",
              "      <td>1</td>\n",
              "    </tr>\n",
              "    <tr>\n",
              "      <th>2</th>\n",
              "      <td>1</td>\n",
              "      <td>89</td>\n",
              "      <td>66</td>\n",
              "      <td>23</td>\n",
              "      <td>94</td>\n",
              "      <td>28.1</td>\n",
              "      <td>0.167</td>\n",
              "      <td>21</td>\n",
              "      <td>0</td>\n",
              "    </tr>\n",
              "    <tr>\n",
              "      <th>3</th>\n",
              "      <td>0</td>\n",
              "      <td>137</td>\n",
              "      <td>40</td>\n",
              "      <td>35</td>\n",
              "      <td>168</td>\n",
              "      <td>43.1</td>\n",
              "      <td>2.288</td>\n",
              "      <td>33</td>\n",
              "      <td>1</td>\n",
              "    </tr>\n",
              "    <tr>\n",
              "      <th>4</th>\n",
              "      <td>5</td>\n",
              "      <td>116</td>\n",
              "      <td>74</td>\n",
              "      <td>0</td>\n",
              "      <td>0</td>\n",
              "      <td>25.6</td>\n",
              "      <td>0.201</td>\n",
              "      <td>30</td>\n",
              "      <td>0</td>\n",
              "    </tr>\n",
              "  </tbody>\n",
              "</table>\n",
              "</div>"
            ],
            "text/plain": [
              "   6  148  72  35    0  33.6  0.627  50  1\n",
              "0  1   85  66  29    0  26.6  0.351  31  0\n",
              "1  8  183  64   0    0  23.3  0.672  32  1\n",
              "2  1   89  66  23   94  28.1  0.167  21  0\n",
              "3  0  137  40  35  168  43.1  2.288  33  1\n",
              "4  5  116  74   0    0  25.6  0.201  30  0"
            ]
          },
          "metadata": {},
          "execution_count": 2
        }
      ]
    },
    {
      "cell_type": "code",
      "metadata": {
        "colab": {
          "base_uri": "https://localhost:8080/",
          "height": 206
        },
        "id": "V1PwQmvi1c4N",
        "outputId": "20758013-a549-4ef8-e8ad-7bddbca45f8d"
      },
      "source": [
        "raw_data.tail()"
      ],
      "execution_count": null,
      "outputs": [
        {
          "output_type": "execute_result",
          "data": {
            "text/html": [
              "<div>\n",
              "<style scoped>\n",
              "    .dataframe tbody tr th:only-of-type {\n",
              "        vertical-align: middle;\n",
              "    }\n",
              "\n",
              "    .dataframe tbody tr th {\n",
              "        vertical-align: top;\n",
              "    }\n",
              "\n",
              "    .dataframe thead th {\n",
              "        text-align: right;\n",
              "    }\n",
              "</style>\n",
              "<table border=\"1\" class=\"dataframe\">\n",
              "  <thead>\n",
              "    <tr style=\"text-align: right;\">\n",
              "      <th></th>\n",
              "      <th>6</th>\n",
              "      <th>148</th>\n",
              "      <th>72</th>\n",
              "      <th>35</th>\n",
              "      <th>0</th>\n",
              "      <th>33.6</th>\n",
              "      <th>0.627</th>\n",
              "      <th>50</th>\n",
              "      <th>1</th>\n",
              "    </tr>\n",
              "  </thead>\n",
              "  <tbody>\n",
              "    <tr>\n",
              "      <th>762</th>\n",
              "      <td>10</td>\n",
              "      <td>101</td>\n",
              "      <td>76</td>\n",
              "      <td>48</td>\n",
              "      <td>180</td>\n",
              "      <td>32.9</td>\n",
              "      <td>0.171</td>\n",
              "      <td>63</td>\n",
              "      <td>0</td>\n",
              "    </tr>\n",
              "    <tr>\n",
              "      <th>763</th>\n",
              "      <td>2</td>\n",
              "      <td>122</td>\n",
              "      <td>70</td>\n",
              "      <td>27</td>\n",
              "      <td>0</td>\n",
              "      <td>36.8</td>\n",
              "      <td>0.340</td>\n",
              "      <td>27</td>\n",
              "      <td>0</td>\n",
              "    </tr>\n",
              "    <tr>\n",
              "      <th>764</th>\n",
              "      <td>5</td>\n",
              "      <td>121</td>\n",
              "      <td>72</td>\n",
              "      <td>23</td>\n",
              "      <td>112</td>\n",
              "      <td>26.2</td>\n",
              "      <td>0.245</td>\n",
              "      <td>30</td>\n",
              "      <td>0</td>\n",
              "    </tr>\n",
              "    <tr>\n",
              "      <th>765</th>\n",
              "      <td>1</td>\n",
              "      <td>126</td>\n",
              "      <td>60</td>\n",
              "      <td>0</td>\n",
              "      <td>0</td>\n",
              "      <td>30.1</td>\n",
              "      <td>0.349</td>\n",
              "      <td>47</td>\n",
              "      <td>1</td>\n",
              "    </tr>\n",
              "    <tr>\n",
              "      <th>766</th>\n",
              "      <td>1</td>\n",
              "      <td>93</td>\n",
              "      <td>70</td>\n",
              "      <td>31</td>\n",
              "      <td>0</td>\n",
              "      <td>30.4</td>\n",
              "      <td>0.315</td>\n",
              "      <td>23</td>\n",
              "      <td>0</td>\n",
              "    </tr>\n",
              "  </tbody>\n",
              "</table>\n",
              "</div>"
            ],
            "text/plain": [
              "      6  148  72  35    0  33.6  0.627  50  1\n",
              "762  10  101  76  48  180  32.9  0.171  63  0\n",
              "763   2  122  70  27    0  36.8  0.340  27  0\n",
              "764   5  121  72  23  112  26.2  0.245  30  0\n",
              "765   1  126  60   0    0  30.1  0.349  47  1\n",
              "766   1   93  70  31    0  30.4  0.315  23  0"
            ]
          },
          "metadata": {},
          "execution_count": 3
        }
      ]
    },
    {
      "cell_type": "code",
      "metadata": {
        "colab": {
          "base_uri": "https://localhost:8080/",
          "height": 300
        },
        "id": "ExXDwpzu1vCn",
        "outputId": "cfc856f1-488c-4d57-ffbe-662d26bce208"
      },
      "source": [
        "raw_data.describe()"
      ],
      "execution_count": null,
      "outputs": [
        {
          "output_type": "execute_result",
          "data": {
            "text/html": [
              "<div>\n",
              "<style scoped>\n",
              "    .dataframe tbody tr th:only-of-type {\n",
              "        vertical-align: middle;\n",
              "    }\n",
              "\n",
              "    .dataframe tbody tr th {\n",
              "        vertical-align: top;\n",
              "    }\n",
              "\n",
              "    .dataframe thead th {\n",
              "        text-align: right;\n",
              "    }\n",
              "</style>\n",
              "<table border=\"1\" class=\"dataframe\">\n",
              "  <thead>\n",
              "    <tr style=\"text-align: right;\">\n",
              "      <th></th>\n",
              "      <th>6</th>\n",
              "      <th>148</th>\n",
              "      <th>72</th>\n",
              "      <th>35</th>\n",
              "      <th>0</th>\n",
              "      <th>33.6</th>\n",
              "      <th>0.627</th>\n",
              "      <th>50</th>\n",
              "      <th>1</th>\n",
              "    </tr>\n",
              "  </thead>\n",
              "  <tbody>\n",
              "    <tr>\n",
              "      <th>count</th>\n",
              "      <td>767.000000</td>\n",
              "      <td>767.000000</td>\n",
              "      <td>767.000000</td>\n",
              "      <td>767.000000</td>\n",
              "      <td>767.000000</td>\n",
              "      <td>767.000000</td>\n",
              "      <td>767.000000</td>\n",
              "      <td>767.000000</td>\n",
              "      <td>767.000000</td>\n",
              "    </tr>\n",
              "    <tr>\n",
              "      <th>mean</th>\n",
              "      <td>3.842243</td>\n",
              "      <td>120.859192</td>\n",
              "      <td>69.101695</td>\n",
              "      <td>20.517601</td>\n",
              "      <td>79.903520</td>\n",
              "      <td>31.990482</td>\n",
              "      <td>0.471674</td>\n",
              "      <td>33.219035</td>\n",
              "      <td>0.348110</td>\n",
              "    </tr>\n",
              "    <tr>\n",
              "      <th>std</th>\n",
              "      <td>3.370877</td>\n",
              "      <td>31.978468</td>\n",
              "      <td>19.368155</td>\n",
              "      <td>15.954059</td>\n",
              "      <td>115.283105</td>\n",
              "      <td>7.889091</td>\n",
              "      <td>0.331497</td>\n",
              "      <td>11.752296</td>\n",
              "      <td>0.476682</td>\n",
              "    </tr>\n",
              "    <tr>\n",
              "      <th>min</th>\n",
              "      <td>0.000000</td>\n",
              "      <td>0.000000</td>\n",
              "      <td>0.000000</td>\n",
              "      <td>0.000000</td>\n",
              "      <td>0.000000</td>\n",
              "      <td>0.000000</td>\n",
              "      <td>0.078000</td>\n",
              "      <td>21.000000</td>\n",
              "      <td>0.000000</td>\n",
              "    </tr>\n",
              "    <tr>\n",
              "      <th>25%</th>\n",
              "      <td>1.000000</td>\n",
              "      <td>99.000000</td>\n",
              "      <td>62.000000</td>\n",
              "      <td>0.000000</td>\n",
              "      <td>0.000000</td>\n",
              "      <td>27.300000</td>\n",
              "      <td>0.243500</td>\n",
              "      <td>24.000000</td>\n",
              "      <td>0.000000</td>\n",
              "    </tr>\n",
              "    <tr>\n",
              "      <th>50%</th>\n",
              "      <td>3.000000</td>\n",
              "      <td>117.000000</td>\n",
              "      <td>72.000000</td>\n",
              "      <td>23.000000</td>\n",
              "      <td>32.000000</td>\n",
              "      <td>32.000000</td>\n",
              "      <td>0.371000</td>\n",
              "      <td>29.000000</td>\n",
              "      <td>0.000000</td>\n",
              "    </tr>\n",
              "    <tr>\n",
              "      <th>75%</th>\n",
              "      <td>6.000000</td>\n",
              "      <td>140.000000</td>\n",
              "      <td>80.000000</td>\n",
              "      <td>32.000000</td>\n",
              "      <td>127.500000</td>\n",
              "      <td>36.600000</td>\n",
              "      <td>0.625000</td>\n",
              "      <td>41.000000</td>\n",
              "      <td>1.000000</td>\n",
              "    </tr>\n",
              "    <tr>\n",
              "      <th>max</th>\n",
              "      <td>17.000000</td>\n",
              "      <td>199.000000</td>\n",
              "      <td>122.000000</td>\n",
              "      <td>99.000000</td>\n",
              "      <td>846.000000</td>\n",
              "      <td>67.100000</td>\n",
              "      <td>2.420000</td>\n",
              "      <td>81.000000</td>\n",
              "      <td>1.000000</td>\n",
              "    </tr>\n",
              "  </tbody>\n",
              "</table>\n",
              "</div>"
            ],
            "text/plain": [
              "                6         148          72  ...       0.627          50           1\n",
              "count  767.000000  767.000000  767.000000  ...  767.000000  767.000000  767.000000\n",
              "mean     3.842243  120.859192   69.101695  ...    0.471674   33.219035    0.348110\n",
              "std      3.370877   31.978468   19.368155  ...    0.331497   11.752296    0.476682\n",
              "min      0.000000    0.000000    0.000000  ...    0.078000   21.000000    0.000000\n",
              "25%      1.000000   99.000000   62.000000  ...    0.243500   24.000000    0.000000\n",
              "50%      3.000000  117.000000   72.000000  ...    0.371000   29.000000    0.000000\n",
              "75%      6.000000  140.000000   80.000000  ...    0.625000   41.000000    1.000000\n",
              "max     17.000000  199.000000  122.000000  ...    2.420000   81.000000    1.000000\n",
              "\n",
              "[8 rows x 9 columns]"
            ]
          },
          "metadata": {},
          "execution_count": 4
        }
      ]
    },
    {
      "cell_type": "markdown",
      "metadata": {
        "id": "o0RFc1DFQ1t0"
      },
      "source": [
        "### **a)Scipy**"
      ]
    },
    {
      "cell_type": "code",
      "metadata": {
        "colab": {
          "base_uri": "https://localhost:8080/"
        },
        "id": "KOWpxIPOQ5HU",
        "outputId": "1501c369-1546-470f-c9db-efb5c28d9d8b"
      },
      "source": [
        "from scipy import constants\n",
        "print(constants.pi)\n",
        "print(constants.deci)\n",
        "print(constants.kilo)\n",
        "print(constants.milli)"
      ],
      "execution_count": null,
      "outputs": [
        {
          "name": "stdout",
          "output_type": "stream",
          "text": [
            "3.141592653589793\n",
            "0.1\n",
            "1000.0\n",
            "0.001\n"
          ]
        }
      ]
    },
    {
      "cell_type": "code",
      "metadata": {
        "colab": {
          "base_uri": "https://localhost:8080/"
        },
        "id": "_gk-DnrTzNTY",
        "outputId": "bb28ad4a-37fe-4857-8193-20c401943fda"
      },
      "source": [
        "from scipy.fftpack import fft\n",
        "import numpy as np\n",
        "x=np.array([1.0,2.0,1.0,-1.0,1.5])\n",
        "y=ifft(x)\n",
        "print(\"FFT :\",y)"
      ],
      "execution_count": null,
      "outputs": [
        {
          "name": "stdout",
          "output_type": "stream",
          "text": [
            "FFT : [ 0.9      -0.j          0.4163119+0.33021975j -0.3663119-0.32164408j\n",
            " -0.3663119+0.32164408j  0.4163119-0.33021975j]\n"
          ]
        }
      ]
    },
    {
      "cell_type": "code",
      "metadata": {
        "colab": {
          "base_uri": "https://localhost:8080/"
        },
        "id": "f1nmKHNdqn1z",
        "outputId": "b1d100f4-230f-4805-9ea1-cfe7805c25ff"
      },
      "source": [
        "from scipy.fftpack import  ifft\n",
        "yinv=ifft(y)\n",
        "print(\"FFT Inverse:\",yinv)"
      ],
      "execution_count": null,
      "outputs": [
        {
          "name": "stdout",
          "output_type": "stream",
          "text": [
            "FFT Inverse: [ 0.2+0.j  0.3+0.j -0.2+0.j  0.2+0.j  0.4+0.j]\n"
          ]
        }
      ]
    },
    {
      "cell_type": "code",
      "metadata": {
        "colab": {
          "base_uri": "https://localhost:8080/"
        },
        "id": "iKYvdm7crGOd",
        "outputId": "73c8c754-7daf-4a95-bcf1-7e3e056d67de"
      },
      "source": [
        "from scipy.fftpack import dct\n",
        "print(\"DCT:\\n\",dct(np.array([4.,3.,5.,10.,5.,3.])))"
      ],
      "execution_count": null,
      "outputs": [
        {
          "name": "stdout",
          "output_type": "stream",
          "text": [
            "DCT:\n",
            " [ 60.          -3.48476592 -13.85640646  11.3137085    6.\n",
            "  -6.31319305]\n"
          ]
        }
      ]
    },
    {
      "cell_type": "code",
      "metadata": {
        "colab": {
          "base_uri": "https://localhost:8080/"
        },
        "id": "SqfwRFg4rvmZ",
        "outputId": "764806b4-e581-48a9-a908-ab6505aaa0ec"
      },
      "source": [
        "from scipy.fftpack import idct\n",
        "print(\"IDCT:\\n\",idct(np.array([4.,3.,5.,10.,5.,3.])))"
      ],
      "execution_count": null,
      "outputs": [
        {
          "name": "stdout",
          "output_type": "stream",
          "text": [
            "IDCT:\n",
            " [ 39.15085889 -20.14213562  -6.45392043   7.13341236   8.14213562\n",
            "  -3.83035081]\n"
          ]
        }
      ]
    },
    {
      "cell_type": "code",
      "metadata": {
        "colab": {
          "base_uri": "https://localhost:8080/"
        },
        "id": "1guZsEyib9wV",
        "outputId": "4a6a86ce-9c24-413a-ee66-6b449dc4e17b"
      },
      "source": [
        "import scipy.integrate as si\n",
        "from numpy import exp\n",
        "f=lambda x:exp(-x**2)\n",
        "i=si.quad(f,0,1)\n",
        "print(i)"
      ],
      "execution_count": null,
      "outputs": [
        {
          "name": "stdout",
          "output_type": "stream",
          "text": [
            "(0.7468241328124271, 8.291413475940725e-15)\n"
          ]
        }
      ]
    },
    {
      "cell_type": "code",
      "metadata": {
        "colab": {
          "base_uri": "https://localhost:8080/"
        },
        "id": "LI4luc_nsakC",
        "outputId": "20971bdd-1fde-4b40-eb16-431c52088c79"
      },
      "source": [
        "from scipy import linalg\n",
        "import numpy as np\n",
        "x=np.array([[2,4,1],[7,5,3],[4,2,1]])\n",
        "y=np.array([2,1,7])\n",
        "z=linalg.solve(x,y)\n",
        "print(z)"
      ],
      "execution_count": null,
      "outputs": [
        {
          "name": "stdout",
          "output_type": "stream",
          "text": [
            "[  3.75   1.25 -10.5 ]\n"
          ]
        }
      ]
    },
    {
      "cell_type": "code",
      "metadata": {
        "colab": {
          "base_uri": "https://localhost:8080/"
        },
        "id": "GJhdifLSvKvm",
        "outputId": "779de023-fe4d-4526-d539-e040e57b3a08"
      },
      "source": [
        "from scipy import linalg\n",
        "import numpy as np\n",
        "A=np.array([[2,4,1],[7,5,3],[2,9,6]])\n",
        "x=linalg.det(A)\n",
        "print(x)"
      ],
      "execution_count": null,
      "outputs": [
        {
          "name": "stdout",
          "output_type": "stream",
          "text": [
            "-85.0\n"
          ]
        }
      ]
    },
    {
      "cell_type": "code",
      "metadata": {
        "colab": {
          "base_uri": "https://localhost:8080/"
        },
        "id": "uENaHSPuvhUd",
        "outputId": "33c56eee-048e-45dc-85e7-79b2e7d656d0"
      },
      "source": [
        "from scipy import linalg\n",
        "import numpy as np\n",
        "A=np.array([[2,4,1],[7,5,3],[2,9,6]])\n",
        "x,y=linalg.eig(A)\n",
        "print(\"Eigean values:\",x)\n",
        "print(\"Eigean vector:\",y)"
      ],
      "execution_count": null,
      "outputs": [
        {
          "name": "stdout",
          "output_type": "stream",
          "text": [
            "Eigean values: [12.8756074 +0.j -2.50792017+0.j  2.63231277+0.j]\n",
            "Eigean vector: [[ 0.27329417  0.45632869 -0.29839612]\n",
            " [ 0.5448779  -0.66271731 -0.27561521]\n",
            " [ 0.79272843  0.59377596  0.91378116]]\n"
          ]
        }
      ]
    },
    {
      "cell_type": "markdown",
      "metadata": {
        "id": "OkSUVsxXQzo-"
      },
      "source": [
        "### **b)Matplotlib**"
      ]
    },
    {
      "cell_type": "code",
      "metadata": {
        "colab": {
          "base_uri": "https://localhost:8080/",
          "height": 268
        },
        "id": "ijSL1CEupOn1",
        "outputId": "61110438-b630-46d8-973a-13cc1312d0e6"
      },
      "source": [
        "import matplotlib.pyplot as mtp\n",
        "import numpy as np\n",
        "x=np.array([3,5,7,9,11])\n",
        "y=np.array([53,97,33,76,27])\n",
        "mtp.plot(x,y)\n",
        "mtp.show()"
      ],
      "execution_count": null,
      "outputs": [
        {
          "data": {
            "image/png": "[encoded data removed]",
            "text/plain": [
              "<Figure size 432x288 with 1 Axes>"
            ]
          },
          "metadata": {},
          "output_type": "display_data"
        }
      ]
    },
    {
      "cell_type": "code",
      "metadata": {
        "colab": {
          "base_uri": "https://localhost:8080/",
          "height": 265
        },
        "id": "1fTuViNyAUwL",
        "outputId": "5f5aa1b8-5347-461b-b595-25ea1eda0e28"
      },
      "source": [
        "x=np.arange(5)\n",
        "y=np.array([45,97,13,56,77])\n",
        "mtp.bar(x,y)\n",
        "mtp.show()"
      ],
      "execution_count": null,
      "outputs": [
        {
          "data": {
            "image/png": "[encoded data removed]",
            "text/plain": [
              "<Figure size 432x288 with 1 Axes>"
            ]
          },
          "metadata": {},
          "output_type": "display_data"
        }
      ]
    },
    {
      "cell_type": "code",
      "metadata": {
        "colab": {
          "base_uri": "https://localhost:8080/",
          "height": 267
        },
        "id": "TttCUwH1uOOH",
        "outputId": "d2bade71-2bec-42b2-b250-eec158885af4"
      },
      "source": [
        "import matplotlib.pyplot as mtp\n",
        "import numpy as np\n",
        "x=np.array([2,5,7,10,13])\n",
        "y=np.array([45,97,13,56,77])\n",
        "mtp.scatter(x,y)\n",
        "mtp.show()"
      ],
      "execution_count": null,
      "outputs": [
        {
          "data": {
            "image/png": "[encoded data removed]",
            "text/plain": [
              "<Figure size 432x288 with 1 Axes>"
            ]
          },
          "metadata": {},
          "output_type": "display_data"
        }
      ]
    },
    {
      "cell_type": "code",
      "metadata": {
        "colab": {
          "base_uri": "https://localhost:8080/",
          "height": 295
        },
        "id": "HFWU5ZrwvVHI",
        "outputId": "e7720d90-fa03-4b53-d343-a589fac770c8"
      },
      "source": [
        "players=[\"virat\",\"rohit\",\"shikhar\",\"hardik\"]\n",
        "runs=[51,47,87,65]\n",
        "mtp.barh(players,runs,color='green')\n",
        "mtp.title(\"Score Card\")\n",
        "mtp.xlabel(\"player\")\n",
        "mtp.ylabel(\"run\")\n",
        "mtp.show()"
      ],
      "execution_count": null,
      "outputs": [
        {
          "data": {
            "image/png": "[encoded data removed]",
            "text/plain": [
              "<Figure size 432x288 with 1 Axes>"
            ]
          },
          "metadata": {},
          "output_type": "display_data"
        }
      ]
    },
    {
      "cell_type": "code",
      "metadata": {
        "colab": {
          "base_uri": "https://localhost:8080/",
          "height": 306
        },
        "id": "pJawcIALsP5J",
        "outputId": "8ea0bd18-f1b0-468d-e406-3c99814154f0"
      },
      "source": [
        "x=np.linspace(0,20,1000)\n",
        "y=np.sin(x)\n",
        "mtp.plot(x,y,label=\"Sample Label\")\n",
        "mtp.title(\"Sample plot Title\")\n",
        "mtp.xlabel('x axis label')\n",
        "mtp.ylabel('y axis label')\n",
        "mtp.grid(True)\n",
        "mtp.figtext(0.5,0.01,'Fig1:sinusoidal',ha='right',va='bottom')\n",
        "mtp.legend(loc='best',framealpha=0.5,prop={'size':'small'})\n",
        "mtp.tight_layout(pad=1)\n",
        "mtp.show()"
      ],
      "execution_count": null,
      "outputs": [
        {
          "data": {
            "image/png": "[encoded data removed]",
            "text/plain": [
              "<Figure size 432x288 with 1 Axes>"
            ]
          },
          "metadata": {},
          "output_type": "display_data"
        }
      ]
    },
    {
      "cell_type": "code",
      "metadata": {
        "colab": {
          "base_uri": "https://localhost:8080/",
          "height": 248
        },
        "id": "ugLzyRZ2_PQ9",
        "outputId": "ce0ab341-5c78-49da-a388-7e965cb47a3d"
      },
      "source": [
        "x=np.array([35,20,15,27,3])\n",
        "mylabel=['paddy','cotton','chilli','major','lemon']\n",
        "mtp.pie(x,labels=mylabel)\n",
        "mtp.show()"
      ],
      "execution_count": null,
      "outputs": [
        {
          "data": {
            "image/png": "[encoded data removed]",
            "text/plain": [
              "<Figure size 432x288 with 1 Axes>"
            ]
          },
          "metadata": {
            "tags": []
          },
          "output_type": "display_data"
        }
      ]
    }
  ]
}