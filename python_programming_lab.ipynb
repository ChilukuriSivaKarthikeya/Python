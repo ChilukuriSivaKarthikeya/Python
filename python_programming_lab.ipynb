{
  "nbformat": 4,
  "nbformat_minor": 0,
  "metadata": {
    "colab": {
      "name": "python programming lab.ipynb",
      "provenance": [],
      "collapsed_sections": [],
      "authorship_tag": "ABX9TyOKzs+G1AQIkQd2WBPmNJjh",
      "include_colab_link": true
    },
    "kernelspec": {
      "name": "python3",
      "display_name": "Python 3"
    },
    "language_info": {
      "name": "python"
    }
  },
  "cells": [
    {
      "cell_type": "markdown",
      "metadata": {
        "id": "view-in-github",
        "colab_type": "text"
      },
      "source": [
        "<a href=\"https://colab.research.google.com/github/ChilukuriSivaKarthikeya/pythonlab/blob/main/python_programming_lab.ipynb\" target=\"_parent\"><img src=\"https://colab.research.google.com/assets/colab-badge.svg\" alt=\"Open In Colab\"/></a>"
      ]
    },
    {
      "cell_type": "markdown",
      "metadata": {
        "id": "RvzzikKEibMR"
      },
      "source": [
        ""
      ]
    },
    {
      "cell_type": "markdown",
      "metadata": {
        "id": "SVfQPmtcidjJ"
      },
      "source": [
        "## Exercise-1"
      ]
    },
    {
      "cell_type": "markdown",
      "metadata": {
        "id": "BaiNEYszitjM"
      },
      "source": [
        "a) Running instructions in Interactive interpreter and a Python Script"
      ]
    },
    {
      "cell_type": "code",
      "metadata": {
        "id": "lPhVASOGjHoq"
      },
      "source": [
        ""
      ],
      "execution_count": null,
      "outputs": []
    },
    {
      "cell_type": "markdown",
      "metadata": {
        "id": "k2XIcZ0GjIEP"
      },
      "source": [
        "b) Write a program to purposefully raise Indentation Error and Correct it"
      ]
    },
    {
      "cell_type": "code",
      "metadata": {
        "id": "62APssONjQon"
      },
      "source": [
        ""
      ],
      "execution_count": null,
      "outputs": []
    },
    {
      "cell_type": "markdown",
      "metadata": {
        "id": "IdKxWTJwjSEH"
      },
      "source": [
        "## Exercise-2"
      ]
    },
    {
      "cell_type": "markdown",
      "metadata": {
        "id": "jYz7f7uAjZeR"
      },
      "source": [
        "a) Write a program to compute distance between two points taking input from the user(Pythagorean \n",
        "Theorem)"
      ]
    },
    {
      "cell_type": "code",
      "metadata": {
        "colab": {
          "base_uri": "https://localhost:8080/"
        },
        "id": "G-iFuLHJjey2",
        "outputId": "02a78c92-d1ed-47d7-ce28-8ab6f2aecc83"
      },
      "source": [
        "import math\n",
        "x1=int(input(\"Enter x1 value:\"))\n",
        "x2=int(input(\"Enter x2 value:\"))\n",
        "y1=int(input(\"Enter y1 value:\"))\n",
        "y2=int(input(\"Enter y2 value:\"))\n",
        "d=math.sqrt((x2-x1)**2+(y2-y1)**2)\n",
        "print(\"distance between two points is\",d)\n"
      ],
      "execution_count": null,
      "outputs": [
        {
          "output_type": "stream",
          "text": [
            "Enter x1 value:2\n",
            "Enter x2 value:3\n",
            "Enter y1 value:3\n",
            "Enter y2 value:4\n",
            "distance between two points is 1.4142135623730951\n"
          ],
          "name": "stdout"
        }
      ]
    },
    {
      "cell_type": "markdown",
      "metadata": {
        "id": "QK_eaMhVjnAX"
      },
      "source": [
        "b) Write a program add.py that takes 2 numbers as command line arguments and prints its sum"
      ]
    },
    {
      "cell_type": "code",
      "metadata": {
        "id": "CMbE8wTojruJ"
      },
      "source": [
        "import sys\n",
        "a=int(sys.argv[1])\n",
        "b=int(sys.argv[2])\n",
        "sum=a+b\n",
        "print(\"sum of two numbers is:\",sum)"
      ],
      "execution_count": null,
      "outputs": []
    },
    {
      "cell_type": "markdown",
      "metadata": {
        "id": "vVglyP94jtz3"
      },
      "source": [
        "## Exercise-3"
      ]
    },
    {
      "cell_type": "markdown",
      "metadata": {
        "id": "nkWkbUGfjy2u"
      },
      "source": [
        "a) Write a Program for checking whether the given number is an even number or not."
      ]
    },
    {
      "cell_type": "code",
      "metadata": {
        "id": "74ByBg9kj5SF",
        "colab": {
          "base_uri": "https://localhost:8080/"
        },
        "outputId": "2c48ec63-193a-41cd-8732-d01bf6e46cd7"
      },
      "source": [
        "n=int(input(\"Enter a number\"))\n",
        "if n%2==0:\n",
        " print(\"Given {} is even number\".format(n))\n",
        "else:\n",
        "  print(\"Given {} is odd number\".format(n))"
      ],
      "execution_count": 1,
      "outputs": [
        {
          "output_type": "stream",
          "text": [
            "Enter a number22\n",
            "Given 22 is even number\n"
          ],
          "name": "stdout"
        }
      ]
    },
    {
      "cell_type": "markdown",
      "metadata": {
        "id": "_ytF0OXnlIFU"
      },
      "source": [
        "b) Using a for loop, write a program that prints out the decimal equivalents of 1/2, 1/3, 1/4, . . .1/10"
      ]
    },
    {
      "cell_type": "code",
      "metadata": {
        "id": "bQV-waillNVs",
        "colab": {
          "base_uri": "https://localhost:8080/"
        },
        "outputId": "bbcae0d4-a2d3-421e-cc32-c7bbccc88348"
      },
      "source": [
        "n=10\n",
        "for i in range(2,n+1):\n",
        "    print(\"1/{}={}\".format(i,1/i))"
      ],
      "execution_count": 2,
      "outputs": [
        {
          "output_type": "stream",
          "text": [
            "1/2=0.5\n",
            "1/3=0.3333333333333333\n",
            "1/4=0.25\n",
            "1/5=0.2\n",
            "1/6=0.16666666666666666\n",
            "1/7=0.14285714285714285\n",
            "1/8=0.125\n",
            "1/9=0.1111111111111111\n",
            "1/10=0.1\n"
          ],
          "name": "stdout"
        }
      ]
    },
    {
      "cell_type": "markdown",
      "metadata": {
        "id": "TEihXYmflN8K"
      },
      "source": [
        "c) Write a program using a for loop that loops over a sequence. What is sequence?"
      ]
    },
    {
      "cell_type": "code",
      "metadata": {
        "id": "Aso-nSX3lS5D",
        "colab": {
          "base_uri": "https://localhost:8080/"
        },
        "outputId": "64033893-54e0-4cd9-c745-0bd8c22eefb2"
      },
      "source": [
        "arr=[44,\"karthik\",64.4,True,89,'siva',72,-159]\n",
        "for i in arr:\n",
        "    print(i,end=\" \")"
      ],
      "execution_count": 3,
      "outputs": [
        {
          "output_type": "stream",
          "text": [
            "44 karthik 64.4 True 89 siva 72 -159 "
          ],
          "name": "stdout"
        }
      ]
    },
    {
      "cell_type": "markdown",
      "metadata": {
        "id": "wZHJf1w6lUMR"
      },
      "source": [
        "d) Write a program using a while loop that asks the user for a number, and prints a countdownfrom \n",
        "that number to zero."
      ]
    },
    {
      "cell_type": "code",
      "metadata": {
        "id": "e2yhfco6lYMb",
        "colab": {
          "base_uri": "https://localhost:8080/"
        },
        "outputId": "00979767-a936-43d2-cefa-5e4812bebe96"
      },
      "source": [
        "n=int(input(\"Enter a number:\"))\n",
        "while n>=0:\n",
        "    print(n)\n",
        "    n-=1"
      ],
      "execution_count": 4,
      "outputs": [
        {
          "output_type": "stream",
          "text": [
            "Enter a number:10\n",
            "10\n",
            "9\n",
            "8\n",
            "7\n",
            "6\n",
            "5\n",
            "4\n",
            "3\n",
            "2\n",
            "1\n",
            "0\n"
          ],
          "name": "stdout"
        }
      ]
    },
    {
      "cell_type": "markdown",
      "metadata": {
        "id": "BHAFHhsXlZEO"
      },
      "source": [
        "## Exercise-4"
      ]
    },
    {
      "cell_type": "markdown",
      "metadata": {
        "id": "xY0_Ro-Ylejf"
      },
      "source": [
        "a) Find the sum of all the primes below two million. Each new term in the Fibonacci sequence is \n",
        "generated by adding the previous two terms. Bystarting with 1 and 2, the first 10 terms will be:\n",
        "1, 2, 3, 5, 8, 13, 21, 34, 55, 89, ...\n"
      ]
    },
    {
      "cell_type": "code",
      "metadata": {
        "id": "cBnOR9zblit2"
      },
      "source": [
        ""
      ],
      "execution_count": null,
      "outputs": []
    },
    {
      "cell_type": "markdown",
      "metadata": {
        "id": "hb23pz7Ali4Y"
      },
      "source": [
        "b) By considering the terms in the Fibonacci sequence whose values do not exceed four million,find \n",
        "the sum of the even-valued terms"
      ]
    },
    {
      "cell_type": "code",
      "metadata": {
        "colab": {
          "base_uri": "https://localhost:8080/"
        },
        "id": "SVthfnbjlmv6",
        "outputId": "151ea600-d6d5-4321-f5ef-0a427ec194bb"
      },
      "source": [
        "n=int(input(\"enter n value\"))\n",
        "a=0\n",
        "b=1\n",
        "c=a+b\n",
        "sum=0\n",
        "count=1\n",
        "print(a,b,sep=\" \",end=\" \")\n",
        "while c<=n:\n",
        "    if count%2==0:\n",
        "        sum+=c\n",
        "    a=b\n",
        "    b=c\n",
        "    c=a+b\n",
        "    count+=1\n",
        "    print(c,end=\" \")\n",
        "print(\"\\nsum of even position fibnocci numbers\",sum)"
      ],
      "execution_count": null,
      "outputs": [
        {
          "output_type": "stream",
          "text": [
            "enter n value55\n",
            "0 1 2 3 5 8 13 21 34 55 89 \n",
            "sum of even position fibnocci numbers 54\n"
          ],
          "name": "stdout"
        }
      ]
    },
    {
      "cell_type": "markdown",
      "metadata": {
        "id": "Q8_nM3_5ls1T"
      },
      "source": [
        "## Exercise-5"
      ]
    },
    {
      "cell_type": "markdown",
      "metadata": {
        "id": "0V1B260klnkA"
      },
      "source": [
        "a) Write a program to count the numbers of characters in the string and store them in adictionary data \n",
        "structure"
      ]
    },
    {
      "cell_type": "code",
      "metadata": {
        "colab": {
          "base_uri": "https://localhost:8080/"
        },
        "id": "pkGu4uvylyYm",
        "outputId": "e1a5923d-3c3b-4ba2-a6ee-1ab6a0532c56"
      },
      "source": [
        "name=input(\"Enter your name:\")\n",
        "dic={}\n",
        "for i in name:\n",
        "    key=dic.keys()\n",
        "    if i in key:\n",
        "        dic[i]+=1\n",
        "    else:\n",
        "        dic[i]=1\n",
        "\n",
        "print(dic)"
      ],
      "execution_count": null,
      "outputs": [
        {
          "output_type": "stream",
          "text": [
            "Enter your name:karthik\n",
            "{'k': 2, 'a': 1, 'r': 1, 't': 1, 'h': 1, 'i': 1}\n"
          ],
          "name": "stdout"
        }
      ]
    },
    {
      "cell_type": "markdown",
      "metadata": {
        "id": "UScullImlyy4"
      },
      "source": [
        "b) Write a program to use split and join methods in the string and trace a birthday with adictionary \n",
        "data structure."
      ]
    },
    {
      "cell_type": "code",
      "metadata": {
        "colab": {
          "base_uri": "https://localhost:8080/"
        },
        "id": "pYOs9TsHl3Rd",
        "outputId": "d355638d-aae4-4f86-a60c-b62c17bffffd"
      },
      "source": [
        "data={\"karthik\":\"05-feb-2001\",\"vishnu\":\"15-oct-2003\",\"kiran\":\"08-may-2001\"}\n",
        "name=input(\"Enter name hows date of birth you want:\")\n",
        "names=name.split()\n",
        "for i in names:\n",
        "     if i in data.keys():\n",
        "         pers=i\n",
        "print(\" \".join([pers,\"was born on\",data[pers]]))\n"
      ],
      "execution_count": null,
      "outputs": [
        {
          "output_type": "stream",
          "text": [
            "Enter name hows date of birth you want:karthik\n",
            "karthik was born on 05-feb-2001\n"
          ],
          "name": "stdout"
        }
      ]
    },
    {
      "cell_type": "markdown",
      "metadata": {
        "id": "ypmPMxeUl7v7"
      },
      "source": [
        "## Exercise-6"
      ]
    },
    {
      "cell_type": "markdown",
      "metadata": {
        "id": "lHTu-y48mBCr"
      },
      "source": [
        "a) Write a program combinelists that combines these lists into a dictionary"
      ]
    },
    {
      "cell_type": "code",
      "metadata": {
        "colab": {
          "base_uri": "https://localhost:8080/"
        },
        "id": "TYqJhzzgmCrU",
        "outputId": "50aa16d9-6c78-4915-83d5-1ffd3b235bc5"
      },
      "source": [
        "sub=[\"OS\",\"SE\",\"DAA\",\"DBMS\",\"P&S\"]\n",
        "marks=[70,80,85,78,90]\n",
        "data=dict(zip(sub,marks))\n",
        "print(data)"
      ],
      "execution_count": null,
      "outputs": [
        {
          "output_type": "stream",
          "text": [
            "{'OS': 70, 'SE': 80, 'DAA': 85, 'DBMS': 78, 'P&S': 90}\n"
          ],
          "name": "stdout"
        }
      ]
    },
    {
      "cell_type": "markdown",
      "metadata": {
        "id": "YSTdXn_WmGO0"
      },
      "source": [
        "b) Write a program to count frequency of characters in a given file. Can you use characterfrequency to \n",
        "tell whether the given file is a Python program file, C program file or a text file?"
      ]
    },
    {
      "cell_type": "code",
      "metadata": {
        "id": "PDBe03kHmK9l"
      },
      "source": [
        "name=input(\"Enter file name to open\")\n",
        "f=open(name,\"r\")\n",
        "count=dict()\n",
        "if \".py\" in name:\n",
        "    print(\"python file\")\n",
        "elif \".c\" in name:\n",
        "    print(\"c file\")\n",
        "elif \".txt\" in name:\n",
        "    print(\"text file\")\n",
        "\n",
        "for line in f:\n",
        "    for char in line:\n",
        "        if char in count:\n",
        "            count[char]+=1\n",
        "        else:\n",
        "            count[char]=1\n",
        "print(count)"
      ],
      "execution_count": null,
      "outputs": []
    },
    {
      "cell_type": "markdown",
      "metadata": {
        "id": "GlOW6R7g5RDm"
      },
      "source": [
        ""
      ]
    },
    {
      "cell_type": "markdown",
      "metadata": {
        "id": "0kwugzU8mL6c"
      },
      "source": [
        "## Exercise-7"
      ]
    },
    {
      "cell_type": "markdown",
      "metadata": {
        "id": "EtxkVgh3mP47"
      },
      "source": [
        "a) Write a program to print each line of a file in reverse order.\n"
      ]
    },
    {
      "cell_type": "code",
      "metadata": {
        "id": "BAvccbASmakr"
      },
      "source": [
        "f=open(\"speech.txt\",\"r\")\n",
        "lines=f.readlines()\n",
        "for line in lines:\n",
        "    print(line[::-1])"
      ],
      "execution_count": null,
      "outputs": []
    },
    {
      "cell_type": "markdown",
      "metadata": {
        "id": "ClzSRVZwmawL"
      },
      "source": [
        "b) Write a program to compute the number of characters, words and lines in a file"
      ]
    },
    {
      "cell_type": "code",
      "metadata": {
        "id": "3tYpwpMbmeew"
      },
      "source": [
        "nl=nw=nc=0\n",
        "f=open(\"speech.txt\",\"r\")\n",
        "lines=f.readlines()\n",
        "for ln in lines:\n",
        "    nl+=1\n",
        "    words=ln.split()\n",
        "    nw+=len(words)\n",
        "    nc+=len(ln)\n",
        "print(\"No.of lines:\",nl)\n",
        "print(\"No.of words:\",nw)\n",
        "print(\"No.of characters:\",nc)"
      ],
      "execution_count": null,
      "outputs": []
    },
    {
      "cell_type": "markdown",
      "metadata": {
        "id": "oC8AMjAJ5TCw"
      },
      "source": [
        "## Exercise-8"
      ]
    },
    {
      "cell_type": "markdown",
      "metadata": {
        "id": "4wo874ia5YNY"
      },
      "source": [
        "a) Write a function ball collide that takes two balls as parameters and computes if they arecolliding. \n",
        "Your function should return a Boolean representing whether or not the balls arecolliding.\n",
        "Hint: Represent a ball on a plane as a tuple of (x, y, r), r being the radius\n",
        "If (distance between two balls centers) <= (sum of their radii) then (they are colliding)"
      ]
    },
    {
      "cell_type": "code",
      "metadata": {
        "colab": {
          "base_uri": "https://localhost:8080/"
        },
        "id": "HkMLYL4N5fGN",
        "outputId": "596a9f77-df07-4b90-bc7b-6e240a5fc29d"
      },
      "source": [
        "import math\n",
        "def ball_collide(ball_tup1,ball_tup2):\n",
        "    x1,y1,r1=ball_tup1\n",
        "    x2,y2,r2=ball_tup2\n",
        "    d=math.sqrt((x2-x1)**2+(y2-y1)**2)\n",
        "    print(\"centriod distance of two balls:\",d)\n",
        "    print(\"sum of radius of two balls:\",r1+r2)\n",
        "    if d<=r1+r2:\n",
        "        return True\n",
        "    else:\n",
        "        return False\n",
        "\n",
        "b1=(3,4,4)\n",
        "b2=(8,6,4)\n",
        "if ball_collide(b1,b2):\n",
        "    print(\"Balls are collide....!\")\n",
        "else:\n",
        "    print(\"Balls are not collide....!\")"
      ],
      "execution_count": 6,
      "outputs": [
        {
          "output_type": "stream",
          "text": [
            "centriod distance of two balls: 5.385164807134504\n",
            "sum of radius of two balls: 8\n",
            "Balls are collide....!\n"
          ],
          "name": "stdout"
        }
      ]
    },
    {
      "cell_type": "markdown",
      "metadata": {
        "id": "CIASkMIa5pUy"
      },
      "source": [
        "b) Find mean, median, mode for the given set of numbers in a list."
      ]
    },
    {
      "cell_type": "code",
      "metadata": {
        "colab": {
          "base_uri": "https://localhost:8080/"
        },
        "id": "nsEMQwVI5uuu",
        "outputId": "c91e2c46-c18c-4e51-afea-488a424c0f3a"
      },
      "source": [
        "def mean(lst):\n",
        "    return sum(lst)/len(lst)\n",
        "def median(lst):\n",
        "    lst.sort()\n",
        "    n=len(lst)\n",
        "    mid=n//2\n",
        "    if n%2==1:\n",
        "        return lst[mid]\n",
        "    else:\n",
        "        return lst[mid-1]+lst[mid]/2\n",
        "def mode(lst):\n",
        "    temp=[]\n",
        "    lst.sort()\n",
        "    for i in lst:\n",
        "     temp.append(lst.count(i))\n",
        "    dic=dict(zip(lst,temp))\n",
        "    mode={k for (k,v) in dic.items() if v==max(temp)}\n",
        "    return mode\n",
        "\n",
        "lst=[4,2,5,1,8,2,3,4,9,2,4]\n",
        "print(\"mean of the list is:\",mean(lst))\n",
        "print(\"median of the list is:\",median(lst))\n",
        "print(\"mode of the list is:\",mode(lst))"
      ],
      "execution_count": 7,
      "outputs": [
        {
          "output_type": "stream",
          "text": [
            "mean of the list is: 4.0\n",
            "median of the list is: 4\n",
            "mode of the list is: {2, 4}\n"
          ],
          "name": "stdout"
        }
      ]
    },
    {
      "cell_type": "markdown",
      "metadata": {
        "id": "6A63xr3I55TZ"
      },
      "source": [
        "## Exercise-9"
      ]
    },
    {
      "cell_type": "markdown",
      "metadata": {
        "id": "ret0ahgY58ye"
      },
      "source": [
        "a) Write a function nearly equal to test whether two strings are nearly equal. Two strings a and bare \n",
        "nearly equal when a can be generated by a single mutation on b."
      ]
    },
    {
      "cell_type": "code",
      "metadata": {
        "id": "sWJCHOVi6BP7"
      },
      "source": [
        ""
      ],
      "execution_count": null,
      "outputs": []
    },
    {
      "cell_type": "markdown",
      "metadata": {
        "id": "oey0Ovc66BqT"
      },
      "source": [
        "b) Write a function dup to find all duplicates in the list."
      ]
    },
    {
      "cell_type": "code",
      "metadata": {
        "colab": {
          "base_uri": "https://localhost:8080/"
        },
        "id": "5XnNCo9l6IA0",
        "outputId": "405d31ed-ed9f-4834-d0c4-dd436d424f2b"
      },
      "source": [
        "def dup_list(lst):\n",
        "    temp=[]\n",
        "    for i in lst:\n",
        "        cn=lst.count(i)\n",
        "        if cn>1 and i not in temp:\n",
        "            temp.append(i)\n",
        "    return temp\n",
        "\n",
        "lst=[1,5,2,7,3,2,8,5,9]\n",
        "print(\"Given list:\",lst)\n",
        "print(\"Duplicates in list:\",dup_list(lst))"
      ],
      "execution_count": 8,
      "outputs": [
        {
          "output_type": "stream",
          "text": [
            "Given list: [1, 5, 2, 7, 3, 2, 8, 5, 9]\n",
            "Duplicates in list: [5, 2]\n"
          ],
          "name": "stdout"
        }
      ]
    },
    {
      "cell_type": "markdown",
      "metadata": {
        "id": "DFo70JdP6Qq5"
      },
      "source": [
        "c) Write a function unique to find all the unique elements of a list."
      ]
    },
    {
      "cell_type": "code",
      "metadata": {
        "colab": {
          "base_uri": "https://localhost:8080/"
        },
        "id": "vxEMALCe6V2W",
        "outputId": "df3a0e36-5d86-4c3f-fc6a-42ebd4c3c672"
      },
      "source": [
        "def unique(lst):\n",
        "    temp=[]\n",
        "    for i in lst:\n",
        "        cn=lst.count(i)\n",
        "        if cn==1:\n",
        "            temp.append(i)\n",
        "    return temp\n",
        "\n",
        "lst=[1,4,2,6,2,5,8,5]\n",
        "print(\"Given list:\",lst)\n",
        "print(\"unique elements in list:\",unique(lst))"
      ],
      "execution_count": 9,
      "outputs": [
        {
          "output_type": "stream",
          "text": [
            "Given list: [1, 4, 2, 6, 2, 5, 8, 5]\n",
            "unique elements in list: [1, 4, 6, 8]\n"
          ],
          "name": "stdout"
        }
      ]
    },
    {
      "cell_type": "markdown",
      "metadata": {
        "id": "WVO7Fj8z6cZl"
      },
      "source": [
        "## Exercise-10"
      ]
    },
    {
      "cell_type": "markdown",
      "metadata": {
        "id": "2XPyU1Eu6iNr"
      },
      "source": [
        "a) Write a function cumulative product to compute cumulative product of a list of numbers."
      ]
    },
    {
      "cell_type": "code",
      "metadata": {
        "colab": {
          "base_uri": "https://localhost:8080/"
        },
        "id": "GFFAjaNF6n-O",
        "outputId": "b0baef49-1e33-4655-926d-67ce64a40a69"
      },
      "source": [
        "def cum_product(lst):\n",
        "    temp=[]\n",
        "    pt=1\n",
        "    for i in lst:\n",
        "        pt*=i\n",
        "        temp.append(pt)\n",
        "    return temp\n",
        "\n",
        "lst=[1,2,5,7,9]\n",
        "print(\"Given list is:\",lst)\n",
        "print(\"cumulative product list is:\",cum_product(lst))"
      ],
      "execution_count": 10,
      "outputs": [
        {
          "output_type": "stream",
          "text": [
            "Given list is: [1, 2, 5, 7, 9]\n",
            "cumulative product list is: [1, 2, 10, 70, 630]\n"
          ],
          "name": "stdout"
        }
      ]
    },
    {
      "cell_type": "markdown",
      "metadata": {
        "id": "TAHLck7r6ug3"
      },
      "source": [
        "b) Write a function reverse to reverse a list. Without using the reverse function."
      ]
    },
    {
      "cell_type": "code",
      "metadata": {
        "colab": {
          "base_uri": "https://localhost:8080/"
        },
        "id": "2mDS9kgY63Ow",
        "outputId": "eaef29b8-69fd-4c88-dcf2-f4a759df86a6"
      },
      "source": [
        "def rev_list(lst):\n",
        "    i=0\n",
        "    j=len(lst)-1\n",
        "    while i<=j:\n",
        "        temp=lst[i]\n",
        "        lst[i]=lst[j]\n",
        "        lst[j]=temp\n",
        "        i+=1\n",
        "        j-=1\n",
        "\n",
        "lst=[1,5,2,7,3,8,4]\n",
        "print(\"Given list:\",lst)\n",
        "rev_list(lst)\n",
        "print(\"Reverse of given list:\",lst)"
      ],
      "execution_count": 11,
      "outputs": [
        {
          "output_type": "stream",
          "text": [
            "Given list: [1, 5, 2, 7, 3, 8, 4]\n",
            "Reverse of given list: [4, 8, 3, 7, 2, 5, 1]\n"
          ],
          "name": "stdout"
        }
      ]
    },
    {
      "cell_type": "markdown",
      "metadata": {
        "id": "RmuHOpRZ7By2"
      },
      "source": [
        "c) Write function to compute gcd, lcm of two numbers. Each function shouldn’t exceed one line."
      ]
    },
    {
      "cell_type": "code",
      "metadata": {
        "colab": {
          "base_uri": "https://localhost:8080/"
        },
        "id": "d_D14QrH7C_A",
        "outputId": "d22c2eef-bed9-4db5-e303-852cc5eaf8c5"
      },
      "source": [
        "gcd=lambda a,b:a if b==0 else gcd(a,a%b)\n",
        "lcm=lambda a,b:(a*b)/gcd(a,b)\n",
        "\n",
        "n1,n2=[int(x) for x in input(\"Enter two numbers:\").split(\" \")]\n",
        "print(\"LCM of given two numbers:\",lcm(n1,n2))\n",
        "print(\"GCD of given two numbers:\",gcd(n1,n2))\n"
      ],
      "execution_count": 13,
      "outputs": [
        {
          "output_type": "stream",
          "text": [
            "Enter two numbers:23 24\n",
            "LCM of given two numbers: 24.0\n",
            "GCD of given two numbers: 23\n"
          ],
          "name": "stdout"
        }
      ]
    },
    {
      "cell_type": "markdown",
      "metadata": {
        "id": "L-qByiW67ec5"
      },
      "source": [
        "## Exercise-11"
      ]
    },
    {
      "cell_type": "markdown",
      "metadata": {
        "id": "stKjJ-g07iOP"
      },
      "source": [
        "a) Write a program that defines a matrix and prints"
      ]
    },
    {
      "cell_type": "code",
      "metadata": {
        "id": "7f4NqH107vAd"
      },
      "source": [
        "rows=int(input(\"Enter no.of rows:\"))\n",
        "cols=int(input(\"Enter no.of cols:\"))\n",
        "matrix=[[int(input(\"Enter element of [{},{}]:\".format(i,j)))for j in range(cols)]for i in range(rows)]\n",
        "print(\"matrix is:\")\n",
        "for i in range(rows):\n",
        "    for j in range(cols):\n",
        "        print(matrix[i][j],end=\" \")\n",
        "    print()"
      ],
      "execution_count": null,
      "outputs": []
    },
    {
      "cell_type": "markdown",
      "metadata": {
        "id": "TyBwte8X7wzn"
      },
      "source": [
        "b) Write a program to perform addition of two square matrices"
      ]
    },
    {
      "cell_type": "code",
      "metadata": {
        "id": "79qDCrZn713v"
      },
      "source": [
        "def display(mat):\n",
        "    for i in range(rows):\n",
        "        for j in range(cols):\n",
        "            print(mat[i][j],end=\" \")\n",
        "        print()\n",
        "\n",
        "rows=int(input(\"Enter no.of rows:\"))\n",
        "cols=int(input(\"Enter no.of cols:\"))\n",
        "print(\"Enter matrix A elements:\")\n",
        "matA=[[int(input(\"Enter element of [{},{}]:\".format(i,j)))for j in range(cols)]for i in range(rows)]\n",
        "print(\"Enter matrix B elements:\")\n",
        "matB=[[int(input(\"Enter element of [{},{}]:\".format(i,j)))for j in range(cols)]for i in range(rows)]\n",
        "if rows==cols:\n",
        "    matsum=[[matA[i][j]+matB[i][j]for j in range(cols)]for i in range(rows)]\n",
        "    print(\"matrix A is:\")\n",
        "    display(matA)\n",
        "    print(\"matrix B is:\")\n",
        "    display(matB)\n",
        "    print(\"Addition of two matrices is:\")\n",
        "    display(matsum)\n",
        "else:\n",
        "    print(\"matrix addition is not possible\")"
      ],
      "execution_count": null,
      "outputs": []
    },
    {
      "cell_type": "markdown",
      "metadata": {
        "id": "ApoeGU_E8ABZ"
      },
      "source": [
        "c) Write a program to perform multiplication of two square matrices"
      ]
    },
    {
      "cell_type": "code",
      "metadata": {
        "id": "WmJzikGt8ETj"
      },
      "source": [
        "def display(mat):\n",
        "    for i in range(rows):\n",
        "        for j in range(cols):\n",
        "            print(mat[i][j],end=\" \")\n",
        "        print()\n",
        "rows=int(input(\"Enter no.of rows:\"))\n",
        "cols=int(input(\"Enter no.of cols:\"))\n",
        "print(\"Enter matrix A elements:\")\n",
        "matA=[[int(input(\"Enter element of [{},{}]:\".format(i,j)))for j in range(cols)]for i in range(rows)]\n",
        "print(\"Enter matrix B elements:\")\n",
        "matB=[[int(input(\"Enter element of [{},{}]:\".format(i,j)))for j in range(cols)]for i in range(rows)]\n",
        "if rows==cols:\n",
        "    matmul=[[0 for j in range(cols)]for i in range(rows)]\n",
        "    for i in range(rows):\n",
        "        for j in range(cols):\n",
        "            for k in range(cols):\n",
        "                matmul[i][j]+=matA[i][k]*matB[k][j]\n",
        "    print(\"matrix A is:\")\n",
        "    display(matA)\n",
        "    print(\"matrix B is:\")\n",
        "    display(matB)\n",
        "    print(\"Multiplication of two matrices is:\")\n",
        "    display(matmul)\n",
        "else:\n",
        "    print(\"matrix multiplication is not possible\")"
      ],
      "execution_count": null,
      "outputs": []
    },
    {
      "cell_type": "markdown",
      "metadata": {
        "id": "UiYx09Ql8Nye"
      },
      "source": [
        "## Exercise-12"
      ]
    },
    {
      "cell_type": "markdown",
      "metadata": {
        "id": "aXWf7rej8SvG"
      },
      "source": [
        "b) Write a script that imports requests and fetch content from the page. Eg. (Wiki)"
      ]
    },
    {
      "cell_type": "code",
      "metadata": {
        "id": "HsYcxQvS8YtV"
      },
      "source": [
        ""
      ],
      "execution_count": null,
      "outputs": []
    },
    {
      "cell_type": "markdown",
      "metadata": {
        "id": "5PI3LO1X8Y8j"
      },
      "source": [
        "c) Write a simple script that serves a simple HTTPResponse and a simple HTML Page"
      ]
    },
    {
      "cell_type": "code",
      "metadata": {
        "id": "omTRXfuo8fpF"
      },
      "source": [
        ""
      ],
      "execution_count": null,
      "outputs": []
    },
    {
      "cell_type": "markdown",
      "metadata": {
        "id": "KAqKQeMP8f-d"
      },
      "source": [
        "## Exercise-13"
      ]
    },
    {
      "cell_type": "markdown",
      "metadata": {
        "id": "Ztsv0BX48lQ2"
      },
      "source": [
        "a) Class variables and instance variable and illustration of the self-variable\n"
      ]
    },
    {
      "cell_type": "markdown",
      "metadata": {
        "id": "6PyAkgqH8xnN"
      },
      "source": [
        "i) Robot"
      ]
    },
    {
      "cell_type": "code",
      "metadata": {
        "colab": {
          "base_uri": "https://localhost:8080/"
        },
        "id": "LlJT0Lhl8y5Z",
        "outputId": "09612bcb-de7d-4b24-df61-2a358f847ed2"
      },
      "source": [
        "class Robot:\n",
        "    what=\"machine\"\n",
        "    name=\"karthik\"\n",
        "    version=2.0\n",
        "    speed=\"2THZ\"\n",
        "    memory=\"2ZB\"\n",
        "    def update(upd):\n",
        "        upd.version = 3.0\n",
        "        upd.speed = \"3THZ\"\n",
        "        upd.memory = \"3ZB\"\n",
        "    def display(self):\n",
        "        print(\"Myself is a:\",r.what)\n",
        "        print(\"Name:\",r.version)\n",
        "        print(\"Speed:\",r.speed)\n",
        "        print(\"Memory:\",r.memory)\n",
        "\n",
        "r=Robot()\n",
        "r.display()\n",
        "print(\"******updated******\")\n",
        "r.update()\n",
        "r.display()"
      ],
      "execution_count": 14,
      "outputs": [
        {
          "output_type": "stream",
          "text": [
            "Myself is a: machine\n",
            "Name: 2.0\n",
            "Speed: 2THZ\n",
            "Memory: 2ZB\n",
            "******updated******\n",
            "Myself is a: machine\n",
            "Name: 3.0\n",
            "Speed: 3THZ\n",
            "Memory: 3ZB\n"
          ],
          "name": "stdout"
        }
      ]
    },
    {
      "cell_type": "markdown",
      "metadata": {
        "id": "ikePPX51883N"
      },
      "source": [
        "ii) ATM Machine"
      ]
    },
    {
      "cell_type": "code",
      "metadata": {
        "colab": {
          "base_uri": "https://localhost:8080/"
        },
        "id": "ZJV3vAQn9BxS",
        "outputId": "b99b1291-0464-4d19-c37c-787121ced73d"
      },
      "source": [
        "class ATM:\n",
        "    def __init__(self):\n",
        "        self.balance=0\n",
        "    def enquire(self):\n",
        "        print(\"Balance :\",self.balance)\n",
        "    def deposit(self):\n",
        "        amount=int(input(\"Enter deposit amount:\"))\n",
        "        self.balance+=amount\n",
        "        self.enquire()\n",
        "    def withdraw(self):\n",
        "       amount=int(input(\"Enter withdraw amount:\"))\n",
        "       if self.balance<amount:\n",
        "         print(\"insuffient balance!\")\n",
        "       else:\n",
        "         self.balance-=amount\n",
        "         self.enquire()\n",
        "obj=ATM()\n",
        "while True:\n",
        "    print(\"1.Balance 2.withdraw 3.Deposit 4.Exit\")\n",
        "    op = int(input(\"Enter your option:\"))\n",
        "    if op==1:\n",
        "        obj.enquire()\n",
        "    elif op==2:\n",
        "        obj.withdraw()\n",
        "    elif op==3:\n",
        "        obj.deposit()\n",
        "    elif op==4:\n",
        "        print(\"Thank you\")\n",
        "        break\n",
        "    else:\n",
        "        print(\"invalid option\")"
      ],
      "execution_count": 15,
      "outputs": [
        {
          "output_type": "stream",
          "text": [
            "1.Balance 2.withdraw 3.Deposit 4.Exit\n",
            "Enter your option:1\n",
            "Balance : 0\n",
            "1.Balance 2.withdraw 3.Deposit 4.Exit\n",
            "Enter your option:3\n",
            "Enter deposit amount:1000\n",
            "Balance : 1000\n",
            "1.Balance 2.withdraw 3.Deposit 4.Exit\n",
            "Enter your option:4\n",
            "Thank you\n"
          ],
          "name": "stdout"
        }
      ]
    },
    {
      "cell_type": "markdown",
      "metadata": {
        "id": "luDdySeJ9SXp"
      },
      "source": [
        "## Exercise-13"
      ]
    },
    {
      "cell_type": "markdown",
      "metadata": {
        "id": "VHd2pPnA9VgA"
      },
      "source": [
        ""
      ]
    },
    {
      "cell_type": "code",
      "metadata": {
        "id": "818qvwl29kgD"
      },
      "source": [
        "import turtle\n",
        "c=[\"red\",\"green\",\"blue\"]\n",
        "i=0\n",
        "turtle.pensize(3)\n",
        "for angle in range(0,360,30):\n",
        "   if i>2:\n",
        "        i=0\n",
        "   turtle.color(c[i])\n",
        "   turtle.seth(angle)\n",
        "   turtle.circle(100)\n",
        "   i+=1"
      ],
      "execution_count": null,
      "outputs": []
    },
    {
      "cell_type": "markdown",
      "metadata": {
        "id": "Zaay3N1J6gwR"
      },
      "source": [
        ""
      ]
    }
  ]
}